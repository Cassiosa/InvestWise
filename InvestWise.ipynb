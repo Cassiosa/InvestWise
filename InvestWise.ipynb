{
  "nbformat": 4,
  "nbformat_minor": 0,
  "metadata": {
    "colab": {
      "provenance": [],
      "authorship_tag": "ABX9TyMkScAieJERrinGPl7XrjhR",
      "include_colab_link": true
    },
    "kernelspec": {
      "name": "python3",
      "display_name": "Python 3"
    },
    "language_info": {
      "name": "python"
    }
  },
  "cells": [
    {
      "cell_type": "markdown",
      "metadata": {
        "id": "view-in-github",
        "colab_type": "text"
      },
      "source": [
        "<a href=\"https://colab.research.google.com/github/Cassiosa/InvestWise/blob/main/InvestWise.ipynb\" target=\"_parent\"><img src=\"https://colab.research.google.com/assets/colab-badge.svg\" alt=\"Open In Colab\"/></a>"
      ]
    },
    {
      "cell_type": "markdown",
      "source": [
        "O projeto será dividido em três etapas:\n",
        "\n",
        "Coleta e Tratamento de Dados:\n",
        "\n",
        "Utilizaremos APIs financeiras (como a yfinance para obter dados históricos de ações, ETFs, criptomoedas, etc.).\n",
        "Permitiremos que os usuários escolham ativos para monitorar.\n",
        "Faremos um tratamento básico dos dados para análise.\n",
        "\n",
        "Análise e Previsão:\n",
        "\n",
        "Implementaremos um modelo preditivo para prever o desempenho futuro dos ativos com base em dados históricos.\n",
        "Usaremos modelos de Machine Learning, como ARIMA ou Prophet, para prever rentabilidade.\n",
        "Calcularemos métricas de risco e retorno, como Sharpe Ratio, Drawdown, e volatilidade.\n",
        "\n",
        "Visualização e Insights:\n",
        "\n",
        "Criaremos visualizações em gráficos para ajudar o usuário a entender o desempenho e a previsão dos ativos.\n",
        "Forneceremos insights acionáveis, como recomendações de diversificação de portfólio."
      ],
      "metadata": {
        "id": "53zOUbkUdTgU"
      }
    },
    {
      "cell_type": "code",
      "source": [
        "!pip install pandas numpy matplotlib seaborn yfinance scikit-learn prophet plotly"
      ],
      "metadata": {
        "colab": {
          "base_uri": "https://localhost:8080/"
        },
        "id": "XkZ7Wc29dmuM",
        "outputId": "e1e363b8-f407-45ee-861f-90a8ecf5aea5"
      },
      "execution_count": 1,
      "outputs": [
        {
          "output_type": "stream",
          "name": "stdout",
          "text": [
            "Requirement already satisfied: pandas in /usr/local/lib/python3.10/dist-packages (2.2.2)\n",
            "Requirement already satisfied: numpy in /usr/local/lib/python3.10/dist-packages (1.26.4)\n",
            "Requirement already satisfied: matplotlib in /usr/local/lib/python3.10/dist-packages (3.8.0)\n",
            "Requirement already satisfied: seaborn in /usr/local/lib/python3.10/dist-packages (0.13.2)\n",
            "Requirement already satisfied: yfinance in /usr/local/lib/python3.10/dist-packages (0.2.49)\n",
            "Requirement already satisfied: scikit-learn in /usr/local/lib/python3.10/dist-packages (1.5.2)\n",
            "Requirement already satisfied: prophet in /usr/local/lib/python3.10/dist-packages (1.1.6)\n",
            "Requirement already satisfied: plotly in /usr/local/lib/python3.10/dist-packages (5.24.1)\n",
            "Requirement already satisfied: python-dateutil>=2.8.2 in /usr/local/lib/python3.10/dist-packages (from pandas) (2.8.2)\n",
            "Requirement already satisfied: pytz>=2020.1 in /usr/local/lib/python3.10/dist-packages (from pandas) (2024.2)\n",
            "Requirement already satisfied: tzdata>=2022.7 in /usr/local/lib/python3.10/dist-packages (from pandas) (2024.2)\n",
            "Requirement already satisfied: contourpy>=1.0.1 in /usr/local/lib/python3.10/dist-packages (from matplotlib) (1.3.1)\n",
            "Requirement already satisfied: cycler>=0.10 in /usr/local/lib/python3.10/dist-packages (from matplotlib) (0.12.1)\n",
            "Requirement already satisfied: fonttools>=4.22.0 in /usr/local/lib/python3.10/dist-packages (from matplotlib) (4.54.1)\n",
            "Requirement already satisfied: kiwisolver>=1.0.1 in /usr/local/lib/python3.10/dist-packages (from matplotlib) (1.4.7)\n",
            "Requirement already satisfied: packaging>=20.0 in /usr/local/lib/python3.10/dist-packages (from matplotlib) (24.2)\n",
            "Requirement already satisfied: pillow>=6.2.0 in /usr/local/lib/python3.10/dist-packages (from matplotlib) (11.0.0)\n",
            "Requirement already satisfied: pyparsing>=2.3.1 in /usr/local/lib/python3.10/dist-packages (from matplotlib) (3.2.0)\n",
            "Requirement already satisfied: requests>=2.31 in /usr/local/lib/python3.10/dist-packages (from yfinance) (2.32.3)\n",
            "Requirement already satisfied: multitasking>=0.0.7 in /usr/local/lib/python3.10/dist-packages (from yfinance) (0.0.11)\n",
            "Requirement already satisfied: lxml>=4.9.1 in /usr/local/lib/python3.10/dist-packages (from yfinance) (5.3.0)\n",
            "Requirement already satisfied: platformdirs>=2.0.0 in /usr/local/lib/python3.10/dist-packages (from yfinance) (4.3.6)\n",
            "Requirement already satisfied: frozendict>=2.3.4 in /usr/local/lib/python3.10/dist-packages (from yfinance) (2.4.6)\n",
            "Requirement already satisfied: peewee>=3.16.2 in /usr/local/lib/python3.10/dist-packages (from yfinance) (3.17.8)\n",
            "Requirement already satisfied: beautifulsoup4>=4.11.1 in /usr/local/lib/python3.10/dist-packages (from yfinance) (4.12.3)\n",
            "Requirement already satisfied: html5lib>=1.1 in /usr/local/lib/python3.10/dist-packages (from yfinance) (1.1)\n",
            "Requirement already satisfied: scipy>=1.6.0 in /usr/local/lib/python3.10/dist-packages (from scikit-learn) (1.13.1)\n",
            "Requirement already satisfied: joblib>=1.2.0 in /usr/local/lib/python3.10/dist-packages (from scikit-learn) (1.4.2)\n",
            "Requirement already satisfied: threadpoolctl>=3.1.0 in /usr/local/lib/python3.10/dist-packages (from scikit-learn) (3.5.0)\n",
            "Requirement already satisfied: cmdstanpy>=1.0.4 in /usr/local/lib/python3.10/dist-packages (from prophet) (1.2.4)\n",
            "Requirement already satisfied: holidays<1,>=0.25 in /usr/local/lib/python3.10/dist-packages (from prophet) (0.60)\n",
            "Requirement already satisfied: tqdm>=4.36.1 in /usr/local/lib/python3.10/dist-packages (from prophet) (4.66.6)\n",
            "Requirement already satisfied: importlib-resources in /usr/local/lib/python3.10/dist-packages (from prophet) (6.4.5)\n",
            "Requirement already satisfied: tenacity>=6.2.0 in /usr/local/lib/python3.10/dist-packages (from plotly) (9.0.0)\n",
            "Requirement already satisfied: soupsieve>1.2 in /usr/local/lib/python3.10/dist-packages (from beautifulsoup4>=4.11.1->yfinance) (2.6)\n",
            "Requirement already satisfied: stanio<2.0.0,>=0.4.0 in /usr/local/lib/python3.10/dist-packages (from cmdstanpy>=1.0.4->prophet) (0.5.1)\n",
            "Requirement already satisfied: six>=1.9 in /usr/local/lib/python3.10/dist-packages (from html5lib>=1.1->yfinance) (1.16.0)\n",
            "Requirement already satisfied: webencodings in /usr/local/lib/python3.10/dist-packages (from html5lib>=1.1->yfinance) (0.5.1)\n",
            "Requirement already satisfied: charset-normalizer<4,>=2 in /usr/local/lib/python3.10/dist-packages (from requests>=2.31->yfinance) (3.4.0)\n",
            "Requirement already satisfied: idna<4,>=2.5 in /usr/local/lib/python3.10/dist-packages (from requests>=2.31->yfinance) (3.10)\n",
            "Requirement already satisfied: urllib3<3,>=1.21.1 in /usr/local/lib/python3.10/dist-packages (from requests>=2.31->yfinance) (2.2.3)\n",
            "Requirement already satisfied: certifi>=2017.4.17 in /usr/local/lib/python3.10/dist-packages (from requests>=2.31->yfinance) (2024.8.30)\n"
          ]
        }
      ]
    },
    {
      "cell_type": "code",
      "source": [
        "#Obtendo dados financeiros usando a biblioteca yfinance\n",
        "import yfinance as yf\n",
        "import pandas as pd\n",
        "import numpy as np\n",
        "import matplotlib.pyplot as plt\n",
        "import seaborn as sns\n",
        "from sklearn.model_selection import train_test_split\n",
        "from sklearn.ensemble import RandomForestRegressor\n",
        "from sklearn.metrics import mean_squared_error, r2_score\n",
        "\n",
        "# Função para coletar dados históricos de um ativo\n",
        "def obter_dados_ativo(ticker, periodo='5y'):\n",
        "    ativo = yf.Ticker(ticker)\n",
        "    dados = ativo.history(period=periodo)\n",
        "    dados.reset_index(inplace=True)\n",
        "    dados['Ticker'] = ticker\n",
        "    return dados\n",
        "\n",
        "# Exemplo de uso\n",
        "tickers = ['AAPL', 'MSFT', 'TSLA']  # Usuário pode adicionar mais ativos\n",
        "df = pd.concat([obter_dados_ativo(ticker) for ticker in tickers], ignore_index=True)\n",
        "\n",
        "# Mostrar uma amostra dos dados\n",
        "print(df.head())"
      ],
      "metadata": {
        "colab": {
          "base_uri": "https://localhost:8080/"
        },
        "id": "8pxE9nq7eG-e",
        "outputId": "2540de10-378a-4cae-9136-8289cac5220c"
      },
      "execution_count": 30,
      "outputs": [
        {
          "output_type": "stream",
          "name": "stdout",
          "text": [
            "                       Date       Open       High        Low      Close  \\\n",
            "0 2019-11-18 00:00:00-05:00  64.422104  64.817169  64.041588  64.737190   \n",
            "1 2019-11-19 00:00:00-05:00  64.931091  64.955330  64.322746  64.540878   \n",
            "2 2019-11-20 00:00:00-05:00  64.359093  64.489967  63.113304  63.789520   \n",
            "3 2019-11-21 00:00:00-05:00  63.910725  63.988285  63.302372  63.503544   \n",
            "4 2019-11-22 00:00:00-05:00  63.644085  63.787083  63.219936  63.447765   \n",
            "\n",
            "      Volume  Dividends  Stock Splits Ticker  \n",
            "0   86703200        0.0           0.0   AAPL  \n",
            "1   76167200        0.0           0.0   AAPL  \n",
            "2  106234400        0.0           0.0   AAPL  \n",
            "3  121395200        0.0           0.0   AAPL  \n",
            "4   65325200        0.0           0.0   AAPL  \n"
          ]
        }
      ]
    },
    {
      "cell_type": "code",
      "source": [
        "!pip install prophet matplotlib"
      ],
      "metadata": {
        "colab": {
          "base_uri": "https://localhost:8080/"
        },
        "id": "fNWuoRwSjFZM",
        "outputId": "3eb225b1-2e3d-4408-fe73-12250111ad0b"
      },
      "execution_count": 23,
      "outputs": [
        {
          "output_type": "stream",
          "name": "stdout",
          "text": [
            "Requirement already satisfied: prophet in /usr/local/lib/python3.10/dist-packages (1.1.6)\n",
            "Requirement already satisfied: matplotlib in /usr/local/lib/python3.10/dist-packages (3.8.0)\n",
            "Requirement already satisfied: cmdstanpy>=1.0.4 in /usr/local/lib/python3.10/dist-packages (from prophet) (1.2.4)\n",
            "Requirement already satisfied: numpy>=1.15.4 in /usr/local/lib/python3.10/dist-packages (from prophet) (1.26.4)\n",
            "Requirement already satisfied: pandas>=1.0.4 in /usr/local/lib/python3.10/dist-packages (from prophet) (2.2.2)\n",
            "Requirement already satisfied: holidays<1,>=0.25 in /usr/local/lib/python3.10/dist-packages (from prophet) (0.60)\n",
            "Requirement already satisfied: tqdm>=4.36.1 in /usr/local/lib/python3.10/dist-packages (from prophet) (4.66.6)\n",
            "Requirement already satisfied: importlib-resources in /usr/local/lib/python3.10/dist-packages (from prophet) (6.4.5)\n",
            "Requirement already satisfied: contourpy>=1.0.1 in /usr/local/lib/python3.10/dist-packages (from matplotlib) (1.3.1)\n",
            "Requirement already satisfied: cycler>=0.10 in /usr/local/lib/python3.10/dist-packages (from matplotlib) (0.12.1)\n",
            "Requirement already satisfied: fonttools>=4.22.0 in /usr/local/lib/python3.10/dist-packages (from matplotlib) (4.54.1)\n",
            "Requirement already satisfied: kiwisolver>=1.0.1 in /usr/local/lib/python3.10/dist-packages (from matplotlib) (1.4.7)\n",
            "Requirement already satisfied: packaging>=20.0 in /usr/local/lib/python3.10/dist-packages (from matplotlib) (24.2)\n",
            "Requirement already satisfied: pillow>=6.2.0 in /usr/local/lib/python3.10/dist-packages (from matplotlib) (11.0.0)\n",
            "Requirement already satisfied: pyparsing>=2.3.1 in /usr/local/lib/python3.10/dist-packages (from matplotlib) (3.2.0)\n",
            "Requirement already satisfied: python-dateutil>=2.7 in /usr/local/lib/python3.10/dist-packages (from matplotlib) (2.8.2)\n",
            "Requirement already satisfied: stanio<2.0.0,>=0.4.0 in /usr/local/lib/python3.10/dist-packages (from cmdstanpy>=1.0.4->prophet) (0.5.1)\n",
            "Requirement already satisfied: pytz>=2020.1 in /usr/local/lib/python3.10/dist-packages (from pandas>=1.0.4->prophet) (2024.2)\n",
            "Requirement already satisfied: tzdata>=2022.7 in /usr/local/lib/python3.10/dist-packages (from pandas>=1.0.4->prophet) (2024.2)\n",
            "Requirement already satisfied: six>=1.5 in /usr/local/lib/python3.10/dist-packages (from python-dateutil>=2.7->matplotlib) (1.16.0)\n"
          ]
        }
      ]
    },
    {
      "cell_type": "code",
      "source": [
        "#Usando o Prophet do Facebook para prever preços futuros\n",
        "import pandas as pd\n",
        "import matplotlib.pyplot as plt\n",
        "from prophet import Prophet\n",
        "import yfinance as yf\n",
        "\n",
        "def obter_dados_ativo(ticker, periodo='5y'):\n",
        "    \"\"\"Função para coletar dados históricos de um ativo\"\"\"\n",
        "    ativo = yf.Ticker(ticker)\n",
        "    dados = ativo.history(period=periodo)\n",
        "    dados.reset_index(inplace=True)\n",
        "    dados['Ticker'] = ticker\n",
        "    return dados\n",
        "\n",
        "def prever_rentabilidade(df, ticker):\n",
        "    \"\"\"Função para prever rentabilidade futura de um ativo\"\"\"\n",
        "    # Filtrar o DataFrame pelo ticker desejado e preparar os dados\n",
        "    df_ticker = df[df['Ticker'] == ticker][['Date', 'Close']].dropna()\n",
        "    df_ticker.rename(columns={'Date': 'ds', 'Close': 'y'}, inplace=True)\n",
        "\n",
        "    # Verificar se há dados suficientes para realizar a previsão\n",
        "    if df_ticker.shape[0] < 10:\n",
        "        print(\"Dados insuficientes para previsão.\")\n",
        "        return\n",
        "\n",
        "    # Inicializar e treinar o modelo Prophet\n",
        "    modelo = Prophet()\n",
        "    modelo.fit(df_ticker)\n",
        "\n",
        "    # Criar um DataFrame futuro para a previsão (próximos 180 dias)\n",
        "    futuro = modelo.make_future_dataframe(periods=180)\n",
        "    previsao = modelo.predict(futuro)\n",
        "\n",
        "    # Plotar a previsão\n",
        "    plt.figure(figsize=(10, 6))\n",
        "    modelo.plot(previsao)\n",
        "    plt.title(f'Previsão de Rentabilidade para {ticker}')\n",
        "    plt.xlabel('Data')\n",
        "    plt.ylabel('Preço Fechamento')\n",
        "    plt.grid(True)\n",
        "    plt.show()\n",
        "\n",
        "    return previsao\n",
        "\n",
        "# Exemplo de uso\n",
        "# Coletar dados históricos para o ativo AAPL\n",
        "df = obter_dados_ativo('AAPL')\n",
        "prever_rentabilidade(df, 'AAPL')\n",
        "\n"
      ],
      "metadata": {
        "colab": {
          "base_uri": "https://localhost:8080/",
          "height": 339
        },
        "id": "ALsTeUkce5sm",
        "outputId": "8795a6e8-1850-4e9c-b374-93b74b1356cc"
      },
      "execution_count": 28,
      "outputs": [
        {
          "output_type": "error",
          "ename": "ValueError",
          "evalue": "Column ds has timezone specified, which is not supported. Remove timezone.",
          "traceback": [
            "\u001b[0;31m---------------------------------------------------------------------------\u001b[0m",
            "\u001b[0;31mValueError\u001b[0m                                Traceback (most recent call last)",
            "\u001b[0;32m<ipython-input-28-3c3b4439a050>\u001b[0m in \u001b[0;36m<cell line: 48>\u001b[0;34m()\u001b[0m\n\u001b[1;32m     46\u001b[0m \u001b[0;31m# Coletar dados históricos para o ativo AAPL\u001b[0m\u001b[0;34m\u001b[0m\u001b[0;34m\u001b[0m\u001b[0m\n\u001b[1;32m     47\u001b[0m \u001b[0mdf\u001b[0m \u001b[0;34m=\u001b[0m \u001b[0mobter_dados_ativo\u001b[0m\u001b[0;34m(\u001b[0m\u001b[0;34m'AAPL'\u001b[0m\u001b[0;34m)\u001b[0m\u001b[0;34m\u001b[0m\u001b[0;34m\u001b[0m\u001b[0m\n\u001b[0;32m---> 48\u001b[0;31m \u001b[0mprever_rentabilidade\u001b[0m\u001b[0;34m(\u001b[0m\u001b[0mdf\u001b[0m\u001b[0;34m,\u001b[0m \u001b[0;34m'AAPL'\u001b[0m\u001b[0;34m)\u001b[0m\u001b[0;34m\u001b[0m\u001b[0;34m\u001b[0m\u001b[0m\n\u001b[0m\u001b[1;32m     49\u001b[0m \u001b[0;34m\u001b[0m\u001b[0m\n",
            "\u001b[0;32m<ipython-input-28-3c3b4439a050>\u001b[0m in \u001b[0;36mprever_rentabilidade\u001b[0;34m(df, ticker)\u001b[0m\n\u001b[1;32m     26\u001b[0m     \u001b[0;31m# Inicializar e treinar o modelo Prophet\u001b[0m\u001b[0;34m\u001b[0m\u001b[0;34m\u001b[0m\u001b[0m\n\u001b[1;32m     27\u001b[0m     \u001b[0mmodelo\u001b[0m \u001b[0;34m=\u001b[0m \u001b[0mProphet\u001b[0m\u001b[0;34m(\u001b[0m\u001b[0;34m)\u001b[0m\u001b[0;34m\u001b[0m\u001b[0;34m\u001b[0m\u001b[0m\n\u001b[0;32m---> 28\u001b[0;31m     \u001b[0mmodelo\u001b[0m\u001b[0;34m.\u001b[0m\u001b[0mfit\u001b[0m\u001b[0;34m(\u001b[0m\u001b[0mdf_ticker\u001b[0m\u001b[0;34m)\u001b[0m\u001b[0;34m\u001b[0m\u001b[0;34m\u001b[0m\u001b[0m\n\u001b[0m\u001b[1;32m     29\u001b[0m \u001b[0;34m\u001b[0m\u001b[0m\n\u001b[1;32m     30\u001b[0m     \u001b[0;31m# Criar um DataFrame futuro para a previsão (próximos 180 dias)\u001b[0m\u001b[0;34m\u001b[0m\u001b[0;34m\u001b[0m\u001b[0m\n",
            "\u001b[0;32m/usr/local/lib/python3.10/dist-packages/prophet/forecaster.py\u001b[0m in \u001b[0;36mfit\u001b[0;34m(self, df, **kwargs)\u001b[0m\n\u001b[1;32m   1215\u001b[0m                             'Instantiate a new object.')\n\u001b[1;32m   1216\u001b[0m \u001b[0;34m\u001b[0m\u001b[0m\n\u001b[0;32m-> 1217\u001b[0;31m         \u001b[0mmodel_inputs\u001b[0m \u001b[0;34m=\u001b[0m \u001b[0mself\u001b[0m\u001b[0;34m.\u001b[0m\u001b[0mpreprocess\u001b[0m\u001b[0;34m(\u001b[0m\u001b[0mdf\u001b[0m\u001b[0;34m,\u001b[0m \u001b[0;34m**\u001b[0m\u001b[0mkwargs\u001b[0m\u001b[0;34m)\u001b[0m\u001b[0;34m\u001b[0m\u001b[0;34m\u001b[0m\u001b[0m\n\u001b[0m\u001b[1;32m   1218\u001b[0m         \u001b[0minitial_params\u001b[0m \u001b[0;34m=\u001b[0m \u001b[0mself\u001b[0m\u001b[0;34m.\u001b[0m\u001b[0mcalculate_initial_params\u001b[0m\u001b[0;34m(\u001b[0m\u001b[0mmodel_inputs\u001b[0m\u001b[0;34m.\u001b[0m\u001b[0mK\u001b[0m\u001b[0;34m)\u001b[0m\u001b[0;34m\u001b[0m\u001b[0;34m\u001b[0m\u001b[0m\n\u001b[1;32m   1219\u001b[0m \u001b[0;34m\u001b[0m\u001b[0m\n",
            "\u001b[0;32m/usr/local/lib/python3.10/dist-packages/prophet/forecaster.py\u001b[0m in \u001b[0;36mpreprocess\u001b[0;34m(self, df, **kwargs)\u001b[0m\n\u001b[1;32m   1133\u001b[0m         \u001b[0mself\u001b[0m\u001b[0;34m.\u001b[0m\u001b[0mhistory_dates\u001b[0m \u001b[0;34m=\u001b[0m \u001b[0mpd\u001b[0m\u001b[0;34m.\u001b[0m\u001b[0mto_datetime\u001b[0m\u001b[0;34m(\u001b[0m\u001b[0mpd\u001b[0m\u001b[0;34m.\u001b[0m\u001b[0mSeries\u001b[0m\u001b[0;34m(\u001b[0m\u001b[0mdf\u001b[0m\u001b[0;34m[\u001b[0m\u001b[0;34m'ds'\u001b[0m\u001b[0;34m]\u001b[0m\u001b[0;34m.\u001b[0m\u001b[0munique\u001b[0m\u001b[0;34m(\u001b[0m\u001b[0;34m)\u001b[0m\u001b[0;34m,\u001b[0m \u001b[0mname\u001b[0m\u001b[0;34m=\u001b[0m\u001b[0;34m'ds'\u001b[0m\u001b[0;34m)\u001b[0m\u001b[0;34m)\u001b[0m\u001b[0;34m.\u001b[0m\u001b[0msort_values\u001b[0m\u001b[0;34m(\u001b[0m\u001b[0;34m)\u001b[0m\u001b[0;34m\u001b[0m\u001b[0;34m\u001b[0m\u001b[0m\n\u001b[1;32m   1134\u001b[0m \u001b[0;34m\u001b[0m\u001b[0m\n\u001b[0;32m-> 1135\u001b[0;31m         \u001b[0mself\u001b[0m\u001b[0;34m.\u001b[0m\u001b[0mhistory\u001b[0m \u001b[0;34m=\u001b[0m \u001b[0mself\u001b[0m\u001b[0;34m.\u001b[0m\u001b[0msetup_dataframe\u001b[0m\u001b[0;34m(\u001b[0m\u001b[0mhistory\u001b[0m\u001b[0;34m,\u001b[0m \u001b[0minitialize_scales\u001b[0m\u001b[0;34m=\u001b[0m\u001b[0;32mTrue\u001b[0m\u001b[0;34m)\u001b[0m\u001b[0;34m\u001b[0m\u001b[0;34m\u001b[0m\u001b[0m\n\u001b[0m\u001b[1;32m   1136\u001b[0m         \u001b[0mself\u001b[0m\u001b[0;34m.\u001b[0m\u001b[0mset_auto_seasonalities\u001b[0m\u001b[0;34m(\u001b[0m\u001b[0;34m)\u001b[0m\u001b[0;34m\u001b[0m\u001b[0;34m\u001b[0m\u001b[0m\n\u001b[1;32m   1137\u001b[0m         seasonal_features, prior_scales, component_cols, modes = (\n",
            "\u001b[0;32m/usr/local/lib/python3.10/dist-packages/prophet/forecaster.py\u001b[0m in \u001b[0;36msetup_dataframe\u001b[0;34m(self, df, initialize_scales)\u001b[0m\n\u001b[1;32m    287\u001b[0m         \u001b[0mdf\u001b[0m\u001b[0;34m[\u001b[0m\u001b[0;34m'ds'\u001b[0m\u001b[0;34m]\u001b[0m \u001b[0;34m=\u001b[0m \u001b[0mpd\u001b[0m\u001b[0;34m.\u001b[0m\u001b[0mto_datetime\u001b[0m\u001b[0;34m(\u001b[0m\u001b[0mdf\u001b[0m\u001b[0;34m[\u001b[0m\u001b[0;34m'ds'\u001b[0m\u001b[0;34m]\u001b[0m\u001b[0;34m)\u001b[0m\u001b[0;34m\u001b[0m\u001b[0;34m\u001b[0m\u001b[0m\n\u001b[1;32m    288\u001b[0m         \u001b[0;32mif\u001b[0m \u001b[0mdf\u001b[0m\u001b[0;34m[\u001b[0m\u001b[0;34m'ds'\u001b[0m\u001b[0;34m]\u001b[0m\u001b[0;34m.\u001b[0m\u001b[0mdt\u001b[0m\u001b[0;34m.\u001b[0m\u001b[0mtz\u001b[0m \u001b[0;32mis\u001b[0m \u001b[0;32mnot\u001b[0m \u001b[0;32mNone\u001b[0m\u001b[0;34m:\u001b[0m\u001b[0;34m\u001b[0m\u001b[0;34m\u001b[0m\u001b[0m\n\u001b[0;32m--> 289\u001b[0;31m             raise ValueError(\n\u001b[0m\u001b[1;32m    290\u001b[0m                 \u001b[0;34m'Column ds has timezone specified, which is not supported. '\u001b[0m\u001b[0;34m\u001b[0m\u001b[0;34m\u001b[0m\u001b[0m\n\u001b[1;32m    291\u001b[0m                 \u001b[0;34m'Remove timezone.'\u001b[0m\u001b[0;34m\u001b[0m\u001b[0;34m\u001b[0m\u001b[0m\n",
            "\u001b[0;31mValueError\u001b[0m: Column ds has timezone specified, which is not supported. Remove timezone."
          ]
        }
      ]
    },
    {
      "cell_type": "code",
      "source": [
        "#Análise de Risco e Retorno\n",
        "def calcular_metricas(df, ticker):\n",
        "    df_ticker = df[df['Ticker'] == ticker]\n",
        "    df_ticker['Retorno'] = df_ticker['Close'].pct_change()\n",
        "\n",
        "    retorno_medio = df_ticker['Retorno'].mean()\n",
        "    volatilidade = df_ticker['Retorno'].std()\n",
        "    sharpe_ratio = retorno_medio / volatilidade\n",
        "\n",
        "    print(f\"Métricas para {ticker}:\")\n",
        "    print(f\"Retorno Médio: {retorno_medio:.4f}\")\n",
        "    print(f\"Volatilidade: {volatilidade:.4f}\")\n",
        "    print(f\"Sharpe Ratio: {sharpe_ratio:.4f}\")\n",
        "\n",
        "# Exemplo de uso\n",
        "calcular_metricas(df, 'AAPL')"
      ],
      "metadata": {
        "colab": {
          "base_uri": "https://localhost:8080/"
        },
        "id": "ZK-CvZ8Cf1fO",
        "outputId": "e5aaed03-010a-43d4-f160-3c784635c0ba"
      },
      "execution_count": 27,
      "outputs": [
        {
          "output_type": "stream",
          "name": "stdout",
          "text": [
            "Métricas para AAPL:\n",
            "Retorno Médio: 0.0012\n",
            "Volatilidade: 0.0200\n",
            "Sharpe Ratio: 0.0603\n"
          ]
        }
      ]
    },
    {
      "cell_type": "code",
      "source": [
        "#Visualização e Insights com Plotly\n",
        "import plotly.express as px\n",
        "\n",
        "def visualizar_dados(df, ticker):\n",
        "    df_ticker = df[df['Ticker'] == ticker]\n",
        "\n",
        "    fig = px.line(df_ticker, x='Date', y='Close', title=f'Preço do {ticker} ao longo do tempo')\n",
        "    fig.update_layout(xaxis_title='Data', yaxis_title='Preço de Fechamento')\n",
        "    fig.show()\n",
        "\n",
        "# Exemplo de uso\n",
        "visualizar_dados(df, 'MSFT')"
      ],
      "metadata": {
        "colab": {
          "base_uri": "https://localhost:8080/",
          "height": 542
        },
        "id": "ekO-jQe9f8aB",
        "outputId": "860dbe5f-ab1a-4953-e08e-b02328978925"
      },
      "execution_count": 10,
      "outputs": [
        {
          "output_type": "display_data",
          "data": {
            "text/html": [
              "<html>\n",
              "<head><meta charset=\"utf-8\" /></head>\n",
              "<body>\n",
              "    <div>            <script src=\"https://cdnjs.cloudflare.com/ajax/libs/mathjax/2.7.5/MathJax.js?config=TeX-AMS-MML_SVG\"></script><script type=\"text/javascript\">if (window.MathJax && window.MathJax.Hub && window.MathJax.Hub.Config) {window.MathJax.Hub.Config({SVG: {font: \"STIX-Web\"}});}</script>                <script type=\"text/javascript\">window.PlotlyConfig = {MathJaxConfig: 'local'};</script>\n",
              "        <script charset=\"utf-8\" src=\"https://cdn.plot.ly/plotly-2.35.2.min.js\"></script>                <div id=\"7ffb00f0-8852-4f98-a11c-97c8db6b5f96\" class=\"plotly-graph-div\" style=\"height:525px; width:100%;\"></div>            <script type=\"text/javascript\">                                    window.PLOTLYENV=window.PLOTLYENV || {};                                    if (document.getElementById(\"7ffb00f0-8852-4f98-a11c-97c8db6b5f96\")) {                    Plotly.newPlot(                        \"7ffb00f0-8852-4f98-a11c-97c8db6b5f96\",                        [{\"hovertemplate\":\"Date=%{x}\\u003cbr\\u003eClose=%{y}\\u003cextra\\u003e\\u003c\\u002fextra\\u003e\",\"legendgroup\":\"\",\"line\":{\"color\":\"#636efa\",\"dash\":\"solid\"},\"marker\":{\"symbol\":\"circle\"},\"mode\":\"lines\",\"name\":\"\",\"showlegend\":false,\"x\":[\"2019-11-18T00:00:00-05:00\",\"2019-11-19T00:00:00-05:00\",\"2019-11-20T00:00:00-05:00\",\"2019-11-21T00:00:00-05:00\",\"2019-11-22T00:00:00-05:00\",\"2019-11-25T00:00:00-05:00\",\"2019-11-26T00:00:00-05:00\",\"2019-11-27T00:00:00-05:00\",\"2019-11-29T00:00:00-05:00\",\"2019-12-02T00:00:00-05:00\",\"2019-12-03T00:00:00-05:00\",\"2019-12-04T00:00:00-05:00\",\"2019-12-05T00:00:00-05:00\",\"2019-12-06T00:00:00-05:00\",\"2019-12-09T00:00:00-05:00\",\"2019-12-10T00:00:00-05:00\",\"2019-12-11T00:00:00-05:00\",\"2019-12-12T00:00:00-05:00\",\"2019-12-13T00:00:00-05:00\",\"2019-12-16T00:00:00-05:00\",\"2019-12-17T00:00:00-05:00\",\"2019-12-18T00:00:00-05:00\",\"2019-12-19T00:00:00-05:00\",\"2019-12-20T00:00:00-05:00\",\"2019-12-23T00:00:00-05:00\",\"2019-12-24T00:00:00-05:00\",\"2019-12-26T00:00:00-05:00\",\"2019-12-27T00:00:00-05:00\",\"2019-12-30T00:00:00-05:00\",\"2019-12-31T00:00:00-05:00\",\"2020-01-02T00:00:00-05:00\",\"2020-01-03T00:00:00-05:00\",\"2020-01-06T00:00:00-05:00\",\"2020-01-07T00:00:00-05:00\",\"2020-01-08T00:00:00-05:00\",\"2020-01-09T00:00:00-05:00\",\"2020-01-10T00:00:00-05:00\",\"2020-01-13T00:00:00-05:00\",\"2020-01-14T00:00:00-05:00\",\"2020-01-15T00:00:00-05:00\",\"2020-01-16T00:00:00-05:00\",\"2020-01-17T00:00:00-05:00\",\"2020-01-21T00:00:00-05:00\",\"2020-01-22T00:00:00-05:00\",\"2020-01-23T00:00:00-05:00\",\"2020-01-24T00:00:00-05:00\",\"2020-01-27T00:00:00-05:00\",\"2020-01-28T00:00:00-05:00\",\"2020-01-29T00:00:00-05:00\",\"2020-01-30T00:00:00-05:00\",\"2020-01-31T00:00:00-05:00\",\"2020-02-03T00:00:00-05:00\",\"2020-02-04T00:00:00-05:00\",\"2020-02-05T00:00:00-05:00\",\"2020-02-06T00:00:00-05:00\",\"2020-02-07T00:00:00-05:00\",\"2020-02-10T00:00:00-05:00\",\"2020-02-11T00:00:00-05:00\",\"2020-02-12T00:00:00-05:00\",\"2020-02-13T00:00:00-05:00\",\"2020-02-14T00:00:00-05:00\",\"2020-02-18T00:00:00-05:00\",\"2020-02-19T00:00:00-05:00\",\"2020-02-20T00:00:00-05:00\",\"2020-02-21T00:00:00-05:00\",\"2020-02-24T00:00:00-05:00\",\"2020-02-25T00:00:00-05:00\",\"2020-02-26T00:00:00-05:00\",\"2020-02-27T00:00:00-05:00\",\"2020-02-28T00:00:00-05:00\",\"2020-03-02T00:00:00-05:00\",\"2020-03-03T00:00:00-05:00\",\"2020-03-04T00:00:00-05:00\",\"2020-03-05T00:00:00-05:00\",\"2020-03-06T00:00:00-05:00\",\"2020-03-09T00:00:00-04:00\",\"2020-03-10T00:00:00-04:00\",\"2020-03-11T00:00:00-04:00\",\"2020-03-12T00:00:00-04:00\",\"2020-03-13T00:00:00-04:00\",\"2020-03-16T00:00:00-04:00\",\"2020-03-17T00:00:00-04:00\",\"2020-03-18T00:00:00-04:00\",\"2020-03-19T00:00:00-04:00\",\"2020-03-20T00:00:00-04:00\",\"2020-03-23T00:00:00-04:00\",\"2020-03-24T00:00:00-04:00\",\"2020-03-25T00:00:00-04:00\",\"2020-03-26T00:00:00-04:00\",\"2020-03-27T00:00:00-04:00\",\"2020-03-30T00:00:00-04:00\",\"2020-03-31T00:00:00-04:00\",\"2020-04-01T00:00:00-04:00\",\"2020-04-02T00:00:00-04:00\",\"2020-04-03T00:00:00-04:00\",\"2020-04-06T00:00:00-04:00\",\"2020-04-07T00:00:00-04:00\",\"2020-04-08T00:00:00-04:00\",\"2020-04-09T00:00:00-04:00\",\"2020-04-13T00:00:00-04:00\",\"2020-04-14T00:00:00-04:00\",\"2020-04-15T00:00:00-04:00\",\"2020-04-16T00:00:00-04:00\",\"2020-04-17T00:00:00-04:00\",\"2020-04-20T00:00:00-04:00\",\"2020-04-21T00:00:00-04:00\",\"2020-04-22T00:00:00-04:00\",\"2020-04-23T00:00:00-04:00\",\"2020-04-24T00:00:00-04:00\",\"2020-04-27T00:00:00-04:00\",\"2020-04-28T00:00:00-04:00\",\"2020-04-29T00:00:00-04:00\",\"2020-04-30T00:00:00-04:00\",\"2020-05-01T00:00:00-04:00\",\"2020-05-04T00:00:00-04:00\",\"2020-05-05T00:00:00-04:00\",\"2020-05-06T00:00:00-04:00\",\"2020-05-07T00:00:00-04:00\",\"2020-05-08T00:00:00-04:00\",\"2020-05-11T00:00:00-04:00\",\"2020-05-12T00:00:00-04:00\",\"2020-05-13T00:00:00-04:00\",\"2020-05-14T00:00:00-04:00\",\"2020-05-15T00:00:00-04:00\",\"2020-05-18T00:00:00-04:00\",\"2020-05-19T00:00:00-04:00\",\"2020-05-20T00:00:00-04:00\",\"2020-05-21T00:00:00-04:00\",\"2020-05-22T00:00:00-04:00\",\"2020-05-26T00:00:00-04:00\",\"2020-05-27T00:00:00-04:00\",\"2020-05-28T00:00:00-04:00\",\"2020-05-29T00:00:00-04:00\",\"2020-06-01T00:00:00-04:00\",\"2020-06-02T00:00:00-04:00\",\"2020-06-03T00:00:00-04:00\",\"2020-06-04T00:00:00-04:00\",\"2020-06-05T00:00:00-04:00\",\"2020-06-08T00:00:00-04:00\",\"2020-06-09T00:00:00-04:00\",\"2020-06-10T00:00:00-04:00\",\"2020-06-11T00:00:00-04:00\",\"2020-06-12T00:00:00-04:00\",\"2020-06-15T00:00:00-04:00\",\"2020-06-16T00:00:00-04:00\",\"2020-06-17T00:00:00-04:00\",\"2020-06-18T00:00:00-04:00\",\"2020-06-19T00:00:00-04:00\",\"2020-06-22T00:00:00-04:00\",\"2020-06-23T00:00:00-04:00\",\"2020-06-24T00:00:00-04:00\",\"2020-06-25T00:00:00-04:00\",\"2020-06-26T00:00:00-04:00\",\"2020-06-29T00:00:00-04:00\",\"2020-06-30T00:00:00-04:00\",\"2020-07-01T00:00:00-04:00\",\"2020-07-02T00:00:00-04:00\",\"2020-07-06T00:00:00-04:00\",\"2020-07-07T00:00:00-04:00\",\"2020-07-08T00:00:00-04:00\",\"2020-07-09T00:00:00-04:00\",\"2020-07-10T00:00:00-04:00\",\"2020-07-13T00:00:00-04:00\",\"2020-07-14T00:00:00-04:00\",\"2020-07-15T00:00:00-04:00\",\"2020-07-16T00:00:00-04:00\",\"2020-07-17T00:00:00-04:00\",\"2020-07-20T00:00:00-04:00\",\"2020-07-21T00:00:00-04:00\",\"2020-07-22T00:00:00-04:00\",\"2020-07-23T00:00:00-04:00\",\"2020-07-24T00:00:00-04:00\",\"2020-07-27T00:00:00-04:00\",\"2020-07-28T00:00:00-04:00\",\"2020-07-29T00:00:00-04:00\",\"2020-07-30T00:00:00-04:00\",\"2020-07-31T00:00:00-04:00\",\"2020-08-03T00:00:00-04:00\",\"2020-08-04T00:00:00-04:00\",\"2020-08-05T00:00:00-04:00\",\"2020-08-06T00:00:00-04:00\",\"2020-08-07T00:00:00-04:00\",\"2020-08-10T00:00:00-04:00\",\"2020-08-11T00:00:00-04:00\",\"2020-08-12T00:00:00-04:00\",\"2020-08-13T00:00:00-04:00\",\"2020-08-14T00:00:00-04:00\",\"2020-08-17T00:00:00-04:00\",\"2020-08-18T00:00:00-04:00\",\"2020-08-19T00:00:00-04:00\",\"2020-08-20T00:00:00-04:00\",\"2020-08-21T00:00:00-04:00\",\"2020-08-24T00:00:00-04:00\",\"2020-08-25T00:00:00-04:00\",\"2020-08-26T00:00:00-04:00\",\"2020-08-27T00:00:00-04:00\",\"2020-08-28T00:00:00-04:00\",\"2020-08-31T00:00:00-04:00\",\"2020-09-01T00:00:00-04:00\",\"2020-09-02T00:00:00-04:00\",\"2020-09-03T00:00:00-04:00\",\"2020-09-04T00:00:00-04:00\",\"2020-09-08T00:00:00-04:00\",\"2020-09-09T00:00:00-04:00\",\"2020-09-10T00:00:00-04:00\",\"2020-09-11T00:00:00-04:00\",\"2020-09-14T00:00:00-04:00\",\"2020-09-15T00:00:00-04:00\",\"2020-09-16T00:00:00-04:00\",\"2020-09-17T00:00:00-04:00\",\"2020-09-18T00:00:00-04:00\",\"2020-09-21T00:00:00-04:00\",\"2020-09-22T00:00:00-04:00\",\"2020-09-23T00:00:00-04:00\",\"2020-09-24T00:00:00-04:00\",\"2020-09-25T00:00:00-04:00\",\"2020-09-28T00:00:00-04:00\",\"2020-09-29T00:00:00-04:00\",\"2020-09-30T00:00:00-04:00\",\"2020-10-01T00:00:00-04:00\",\"2020-10-02T00:00:00-04:00\",\"2020-10-05T00:00:00-04:00\",\"2020-10-06T00:00:00-04:00\",\"2020-10-07T00:00:00-04:00\",\"2020-10-08T00:00:00-04:00\",\"2020-10-09T00:00:00-04:00\",\"2020-10-12T00:00:00-04:00\",\"2020-10-13T00:00:00-04:00\",\"2020-10-14T00:00:00-04:00\",\"2020-10-15T00:00:00-04:00\",\"2020-10-16T00:00:00-04:00\",\"2020-10-19T00:00:00-04:00\",\"2020-10-20T00:00:00-04:00\",\"2020-10-21T00:00:00-04:00\",\"2020-10-22T00:00:00-04:00\",\"2020-10-23T00:00:00-04:00\",\"2020-10-26T00:00:00-04:00\",\"2020-10-27T00:00:00-04:00\",\"2020-10-28T00:00:00-04:00\",\"2020-10-29T00:00:00-04:00\",\"2020-10-30T00:00:00-04:00\",\"2020-11-02T00:00:00-05:00\",\"2020-11-03T00:00:00-05:00\",\"2020-11-04T00:00:00-05:00\",\"2020-11-05T00:00:00-05:00\",\"2020-11-06T00:00:00-05:00\",\"2020-11-09T00:00:00-05:00\",\"2020-11-10T00:00:00-05:00\",\"2020-11-11T00:00:00-05:00\",\"2020-11-12T00:00:00-05:00\",\"2020-11-13T00:00:00-05:00\",\"2020-11-16T00:00:00-05:00\",\"2020-11-17T00:00:00-05:00\",\"2020-11-18T00:00:00-05:00\",\"2020-11-19T00:00:00-05:00\",\"2020-11-20T00:00:00-05:00\",\"2020-11-23T00:00:00-05:00\",\"2020-11-24T00:00:00-05:00\",\"2020-11-25T00:00:00-05:00\",\"2020-11-27T00:00:00-05:00\",\"2020-11-30T00:00:00-05:00\",\"2020-12-01T00:00:00-05:00\",\"2020-12-02T00:00:00-05:00\",\"2020-12-03T00:00:00-05:00\",\"2020-12-04T00:00:00-05:00\",\"2020-12-07T00:00:00-05:00\",\"2020-12-08T00:00:00-05:00\",\"2020-12-09T00:00:00-05:00\",\"2020-12-10T00:00:00-05:00\",\"2020-12-11T00:00:00-05:00\",\"2020-12-14T00:00:00-05:00\",\"2020-12-15T00:00:00-05:00\",\"2020-12-16T00:00:00-05:00\",\"2020-12-17T00:00:00-05:00\",\"2020-12-18T00:00:00-05:00\",\"2020-12-21T00:00:00-05:00\",\"2020-12-22T00:00:00-05:00\",\"2020-12-23T00:00:00-05:00\",\"2020-12-24T00:00:00-05:00\",\"2020-12-28T00:00:00-05:00\",\"2020-12-29T00:00:00-05:00\",\"2020-12-30T00:00:00-05:00\",\"2020-12-31T00:00:00-05:00\",\"2021-01-04T00:00:00-05:00\",\"2021-01-05T00:00:00-05:00\",\"2021-01-06T00:00:00-05:00\",\"2021-01-07T00:00:00-05:00\",\"2021-01-08T00:00:00-05:00\",\"2021-01-11T00:00:00-05:00\",\"2021-01-12T00:00:00-05:00\",\"2021-01-13T00:00:00-05:00\",\"2021-01-14T00:00:00-05:00\",\"2021-01-15T00:00:00-05:00\",\"2021-01-19T00:00:00-05:00\",\"2021-01-20T00:00:00-05:00\",\"2021-01-21T00:00:00-05:00\",\"2021-01-22T00:00:00-05:00\",\"2021-01-25T00:00:00-05:00\",\"2021-01-26T00:00:00-05:00\",\"2021-01-27T00:00:00-05:00\",\"2021-01-28T00:00:00-05:00\",\"2021-01-29T00:00:00-05:00\",\"2021-02-01T00:00:00-05:00\",\"2021-02-02T00:00:00-05:00\",\"2021-02-03T00:00:00-05:00\",\"2021-02-04T00:00:00-05:00\",\"2021-02-05T00:00:00-05:00\",\"2021-02-08T00:00:00-05:00\",\"2021-02-09T00:00:00-05:00\",\"2021-02-10T00:00:00-05:00\",\"2021-02-11T00:00:00-05:00\",\"2021-02-12T00:00:00-05:00\",\"2021-02-16T00:00:00-05:00\",\"2021-02-17T00:00:00-05:00\",\"2021-02-18T00:00:00-05:00\",\"2021-02-19T00:00:00-05:00\",\"2021-02-22T00:00:00-05:00\",\"2021-02-23T00:00:00-05:00\",\"2021-02-24T00:00:00-05:00\",\"2021-02-25T00:00:00-05:00\",\"2021-02-26T00:00:00-05:00\",\"2021-03-01T00:00:00-05:00\",\"2021-03-02T00:00:00-05:00\",\"2021-03-03T00:00:00-05:00\",\"2021-03-04T00:00:00-05:00\",\"2021-03-05T00:00:00-05:00\",\"2021-03-08T00:00:00-05:00\",\"2021-03-09T00:00:00-05:00\",\"2021-03-10T00:00:00-05:00\",\"2021-03-11T00:00:00-05:00\",\"2021-03-12T00:00:00-05:00\",\"2021-03-15T00:00:00-04:00\",\"2021-03-16T00:00:00-04:00\",\"2021-03-17T00:00:00-04:00\",\"2021-03-18T00:00:00-04:00\",\"2021-03-19T00:00:00-04:00\",\"2021-03-22T00:00:00-04:00\",\"2021-03-23T00:00:00-04:00\",\"2021-03-24T00:00:00-04:00\",\"2021-03-25T00:00:00-04:00\",\"2021-03-26T00:00:00-04:00\",\"2021-03-29T00:00:00-04:00\",\"2021-03-30T00:00:00-04:00\",\"2021-03-31T00:00:00-04:00\",\"2021-04-01T00:00:00-04:00\",\"2021-04-05T00:00:00-04:00\",\"2021-04-06T00:00:00-04:00\",\"2021-04-07T00:00:00-04:00\",\"2021-04-08T00:00:00-04:00\",\"2021-04-09T00:00:00-04:00\",\"2021-04-12T00:00:00-04:00\",\"2021-04-13T00:00:00-04:00\",\"2021-04-14T00:00:00-04:00\",\"2021-04-15T00:00:00-04:00\",\"2021-04-16T00:00:00-04:00\",\"2021-04-19T00:00:00-04:00\",\"2021-04-20T00:00:00-04:00\",\"2021-04-21T00:00:00-04:00\",\"2021-04-22T00:00:00-04:00\",\"2021-04-23T00:00:00-04:00\",\"2021-04-26T00:00:00-04:00\",\"2021-04-27T00:00:00-04:00\",\"2021-04-28T00:00:00-04:00\",\"2021-04-29T00:00:00-04:00\",\"2021-04-30T00:00:00-04:00\",\"2021-05-03T00:00:00-04:00\",\"2021-05-04T00:00:00-04:00\",\"2021-05-05T00:00:00-04:00\",\"2021-05-06T00:00:00-04:00\",\"2021-05-07T00:00:00-04:00\",\"2021-05-10T00:00:00-04:00\",\"2021-05-11T00:00:00-04:00\",\"2021-05-12T00:00:00-04:00\",\"2021-05-13T00:00:00-04:00\",\"2021-05-14T00:00:00-04:00\",\"2021-05-17T00:00:00-04:00\",\"2021-05-18T00:00:00-04:00\",\"2021-05-19T00:00:00-04:00\",\"2021-05-20T00:00:00-04:00\",\"2021-05-21T00:00:00-04:00\",\"2021-05-24T00:00:00-04:00\",\"2021-05-25T00:00:00-04:00\",\"2021-05-26T00:00:00-04:00\",\"2021-05-27T00:00:00-04:00\",\"2021-05-28T00:00:00-04:00\",\"2021-06-01T00:00:00-04:00\",\"2021-06-02T00:00:00-04:00\",\"2021-06-03T00:00:00-04:00\",\"2021-06-04T00:00:00-04:00\",\"2021-06-07T00:00:00-04:00\",\"2021-06-08T00:00:00-04:00\",\"2021-06-09T00:00:00-04:00\",\"2021-06-10T00:00:00-04:00\",\"2021-06-11T00:00:00-04:00\",\"2021-06-14T00:00:00-04:00\",\"2021-06-15T00:00:00-04:00\",\"2021-06-16T00:00:00-04:00\",\"2021-06-17T00:00:00-04:00\",\"2021-06-18T00:00:00-04:00\",\"2021-06-21T00:00:00-04:00\",\"2021-06-22T00:00:00-04:00\",\"2021-06-23T00:00:00-04:00\",\"2021-06-24T00:00:00-04:00\",\"2021-06-25T00:00:00-04:00\",\"2021-06-28T00:00:00-04:00\",\"2021-06-29T00:00:00-04:00\",\"2021-06-30T00:00:00-04:00\",\"2021-07-01T00:00:00-04:00\",\"2021-07-02T00:00:00-04:00\",\"2021-07-06T00:00:00-04:00\",\"2021-07-07T00:00:00-04:00\",\"2021-07-08T00:00:00-04:00\",\"2021-07-09T00:00:00-04:00\",\"2021-07-12T00:00:00-04:00\",\"2021-07-13T00:00:00-04:00\",\"2021-07-14T00:00:00-04:00\",\"2021-07-15T00:00:00-04:00\",\"2021-07-16T00:00:00-04:00\",\"2021-07-19T00:00:00-04:00\",\"2021-07-20T00:00:00-04:00\",\"2021-07-21T00:00:00-04:00\",\"2021-07-22T00:00:00-04:00\",\"2021-07-23T00:00:00-04:00\",\"2021-07-26T00:00:00-04:00\",\"2021-07-27T00:00:00-04:00\",\"2021-07-28T00:00:00-04:00\",\"2021-07-29T00:00:00-04:00\",\"2021-07-30T00:00:00-04:00\",\"2021-08-02T00:00:00-04:00\",\"2021-08-03T00:00:00-04:00\",\"2021-08-04T00:00:00-04:00\",\"2021-08-05T00:00:00-04:00\",\"2021-08-06T00:00:00-04:00\",\"2021-08-09T00:00:00-04:00\",\"2021-08-10T00:00:00-04:00\",\"2021-08-11T00:00:00-04:00\",\"2021-08-12T00:00:00-04:00\",\"2021-08-13T00:00:00-04:00\",\"2021-08-16T00:00:00-04:00\",\"2021-08-17T00:00:00-04:00\",\"2021-08-18T00:00:00-04:00\",\"2021-08-19T00:00:00-04:00\",\"2021-08-20T00:00:00-04:00\",\"2021-08-23T00:00:00-04:00\",\"2021-08-24T00:00:00-04:00\",\"2021-08-25T00:00:00-04:00\",\"2021-08-26T00:00:00-04:00\",\"2021-08-27T00:00:00-04:00\",\"2021-08-30T00:00:00-04:00\",\"2021-08-31T00:00:00-04:00\",\"2021-09-01T00:00:00-04:00\",\"2021-09-02T00:00:00-04:00\",\"2021-09-03T00:00:00-04:00\",\"2021-09-07T00:00:00-04:00\",\"2021-09-08T00:00:00-04:00\",\"2021-09-09T00:00:00-04:00\",\"2021-09-10T00:00:00-04:00\",\"2021-09-13T00:00:00-04:00\",\"2021-09-14T00:00:00-04:00\",\"2021-09-15T00:00:00-04:00\",\"2021-09-16T00:00:00-04:00\",\"2021-09-17T00:00:00-04:00\",\"2021-09-20T00:00:00-04:00\",\"2021-09-21T00:00:00-04:00\",\"2021-09-22T00:00:00-04:00\",\"2021-09-23T00:00:00-04:00\",\"2021-09-24T00:00:00-04:00\",\"2021-09-27T00:00:00-04:00\",\"2021-09-28T00:00:00-04:00\",\"2021-09-29T00:00:00-04:00\",\"2021-09-30T00:00:00-04:00\",\"2021-10-01T00:00:00-04:00\",\"2021-10-04T00:00:00-04:00\",\"2021-10-05T00:00:00-04:00\",\"2021-10-06T00:00:00-04:00\",\"2021-10-07T00:00:00-04:00\",\"2021-10-08T00:00:00-04:00\",\"2021-10-11T00:00:00-04:00\",\"2021-10-12T00:00:00-04:00\",\"2021-10-13T00:00:00-04:00\",\"2021-10-14T00:00:00-04:00\",\"2021-10-15T00:00:00-04:00\",\"2021-10-18T00:00:00-04:00\",\"2021-10-19T00:00:00-04:00\",\"2021-10-20T00:00:00-04:00\",\"2021-10-21T00:00:00-04:00\",\"2021-10-22T00:00:00-04:00\",\"2021-10-25T00:00:00-04:00\",\"2021-10-26T00:00:00-04:00\",\"2021-10-27T00:00:00-04:00\",\"2021-10-28T00:00:00-04:00\",\"2021-10-29T00:00:00-04:00\",\"2021-11-01T00:00:00-04:00\",\"2021-11-02T00:00:00-04:00\",\"2021-11-03T00:00:00-04:00\",\"2021-11-04T00:00:00-04:00\",\"2021-11-05T00:00:00-04:00\",\"2021-11-08T00:00:00-05:00\",\"2021-11-09T00:00:00-05:00\",\"2021-11-10T00:00:00-05:00\",\"2021-11-11T00:00:00-05:00\",\"2021-11-12T00:00:00-05:00\",\"2021-11-15T00:00:00-05:00\",\"2021-11-16T00:00:00-05:00\",\"2021-11-17T00:00:00-05:00\",\"2021-11-18T00:00:00-05:00\",\"2021-11-19T00:00:00-05:00\",\"2021-11-22T00:00:00-05:00\",\"2021-11-23T00:00:00-05:00\",\"2021-11-24T00:00:00-05:00\",\"2021-11-26T00:00:00-05:00\",\"2021-11-29T00:00:00-05:00\",\"2021-11-30T00:00:00-05:00\",\"2021-12-01T00:00:00-05:00\",\"2021-12-02T00:00:00-05:00\",\"2021-12-03T00:00:00-05:00\",\"2021-12-06T00:00:00-05:00\",\"2021-12-07T00:00:00-05:00\",\"2021-12-08T00:00:00-05:00\",\"2021-12-09T00:00:00-05:00\",\"2021-12-10T00:00:00-05:00\",\"2021-12-13T00:00:00-05:00\",\"2021-12-14T00:00:00-05:00\",\"2021-12-15T00:00:00-05:00\",\"2021-12-16T00:00:00-05:00\",\"2021-12-17T00:00:00-05:00\",\"2021-12-20T00:00:00-05:00\",\"2021-12-21T00:00:00-05:00\",\"2021-12-22T00:00:00-05:00\",\"2021-12-23T00:00:00-05:00\",\"2021-12-27T00:00:00-05:00\",\"2021-12-28T00:00:00-05:00\",\"2021-12-29T00:00:00-05:00\",\"2021-12-30T00:00:00-05:00\",\"2021-12-31T00:00:00-05:00\",\"2022-01-03T00:00:00-05:00\",\"2022-01-04T00:00:00-05:00\",\"2022-01-05T00:00:00-05:00\",\"2022-01-06T00:00:00-05:00\",\"2022-01-07T00:00:00-05:00\",\"2022-01-10T00:00:00-05:00\",\"2022-01-11T00:00:00-05:00\",\"2022-01-12T00:00:00-05:00\",\"2022-01-13T00:00:00-05:00\",\"2022-01-14T00:00:00-05:00\",\"2022-01-18T00:00:00-05:00\",\"2022-01-19T00:00:00-05:00\",\"2022-01-20T00:00:00-05:00\",\"2022-01-21T00:00:00-05:00\",\"2022-01-24T00:00:00-05:00\",\"2022-01-25T00:00:00-05:00\",\"2022-01-26T00:00:00-05:00\",\"2022-01-27T00:00:00-05:00\",\"2022-01-28T00:00:00-05:00\",\"2022-01-31T00:00:00-05:00\",\"2022-02-01T00:00:00-05:00\",\"2022-02-02T00:00:00-05:00\",\"2022-02-03T00:00:00-05:00\",\"2022-02-04T00:00:00-05:00\",\"2022-02-07T00:00:00-05:00\",\"2022-02-08T00:00:00-05:00\",\"2022-02-09T00:00:00-05:00\",\"2022-02-10T00:00:00-05:00\",\"2022-02-11T00:00:00-05:00\",\"2022-02-14T00:00:00-05:00\",\"2022-02-15T00:00:00-05:00\",\"2022-02-16T00:00:00-05:00\",\"2022-02-17T00:00:00-05:00\",\"2022-02-18T00:00:00-05:00\",\"2022-02-22T00:00:00-05:00\",\"2022-02-23T00:00:00-05:00\",\"2022-02-24T00:00:00-05:00\",\"2022-02-25T00:00:00-05:00\",\"2022-02-28T00:00:00-05:00\",\"2022-03-01T00:00:00-05:00\",\"2022-03-02T00:00:00-05:00\",\"2022-03-03T00:00:00-05:00\",\"2022-03-04T00:00:00-05:00\",\"2022-03-07T00:00:00-05:00\",\"2022-03-08T00:00:00-05:00\",\"2022-03-09T00:00:00-05:00\",\"2022-03-10T00:00:00-05:00\",\"2022-03-11T00:00:00-05:00\",\"2022-03-14T00:00:00-04:00\",\"2022-03-15T00:00:00-04:00\",\"2022-03-16T00:00:00-04:00\",\"2022-03-17T00:00:00-04:00\",\"2022-03-18T00:00:00-04:00\",\"2022-03-21T00:00:00-04:00\",\"2022-03-22T00:00:00-04:00\",\"2022-03-23T00:00:00-04:00\",\"2022-03-24T00:00:00-04:00\",\"2022-03-25T00:00:00-04:00\",\"2022-03-28T00:00:00-04:00\",\"2022-03-29T00:00:00-04:00\",\"2022-03-30T00:00:00-04:00\",\"2022-03-31T00:00:00-04:00\",\"2022-04-01T00:00:00-04:00\",\"2022-04-04T00:00:00-04:00\",\"2022-04-05T00:00:00-04:00\",\"2022-04-06T00:00:00-04:00\",\"2022-04-07T00:00:00-04:00\",\"2022-04-08T00:00:00-04:00\",\"2022-04-11T00:00:00-04:00\",\"2022-04-12T00:00:00-04:00\",\"2022-04-13T00:00:00-04:00\",\"2022-04-14T00:00:00-04:00\",\"2022-04-18T00:00:00-04:00\",\"2022-04-19T00:00:00-04:00\",\"2022-04-20T00:00:00-04:00\",\"2022-04-21T00:00:00-04:00\",\"2022-04-22T00:00:00-04:00\",\"2022-04-25T00:00:00-04:00\",\"2022-04-26T00:00:00-04:00\",\"2022-04-27T00:00:00-04:00\",\"2022-04-28T00:00:00-04:00\",\"2022-04-29T00:00:00-04:00\",\"2022-05-02T00:00:00-04:00\",\"2022-05-03T00:00:00-04:00\",\"2022-05-04T00:00:00-04:00\",\"2022-05-05T00:00:00-04:00\",\"2022-05-06T00:00:00-04:00\",\"2022-05-09T00:00:00-04:00\",\"2022-05-10T00:00:00-04:00\",\"2022-05-11T00:00:00-04:00\",\"2022-05-12T00:00:00-04:00\",\"2022-05-13T00:00:00-04:00\",\"2022-05-16T00:00:00-04:00\",\"2022-05-17T00:00:00-04:00\",\"2022-05-18T00:00:00-04:00\",\"2022-05-19T00:00:00-04:00\",\"2022-05-20T00:00:00-04:00\",\"2022-05-23T00:00:00-04:00\",\"2022-05-24T00:00:00-04:00\",\"2022-05-25T00:00:00-04:00\",\"2022-05-26T00:00:00-04:00\",\"2022-05-27T00:00:00-04:00\",\"2022-05-31T00:00:00-04:00\",\"2022-06-01T00:00:00-04:00\",\"2022-06-02T00:00:00-04:00\",\"2022-06-03T00:00:00-04:00\",\"2022-06-06T00:00:00-04:00\",\"2022-06-07T00:00:00-04:00\",\"2022-06-08T00:00:00-04:00\",\"2022-06-09T00:00:00-04:00\",\"2022-06-10T00:00:00-04:00\",\"2022-06-13T00:00:00-04:00\",\"2022-06-14T00:00:00-04:00\",\"2022-06-15T00:00:00-04:00\",\"2022-06-16T00:00:00-04:00\",\"2022-06-17T00:00:00-04:00\",\"2022-06-21T00:00:00-04:00\",\"2022-06-22T00:00:00-04:00\",\"2022-06-23T00:00:00-04:00\",\"2022-06-24T00:00:00-04:00\",\"2022-06-27T00:00:00-04:00\",\"2022-06-28T00:00:00-04:00\",\"2022-06-29T00:00:00-04:00\",\"2022-06-30T00:00:00-04:00\",\"2022-07-01T00:00:00-04:00\",\"2022-07-05T00:00:00-04:00\",\"2022-07-06T00:00:00-04:00\",\"2022-07-07T00:00:00-04:00\",\"2022-07-08T00:00:00-04:00\",\"2022-07-11T00:00:00-04:00\",\"2022-07-12T00:00:00-04:00\",\"2022-07-13T00:00:00-04:00\",\"2022-07-14T00:00:00-04:00\",\"2022-07-15T00:00:00-04:00\",\"2022-07-18T00:00:00-04:00\",\"2022-07-19T00:00:00-04:00\",\"2022-07-20T00:00:00-04:00\",\"2022-07-21T00:00:00-04:00\",\"2022-07-22T00:00:00-04:00\",\"2022-07-25T00:00:00-04:00\",\"2022-07-26T00:00:00-04:00\",\"2022-07-27T00:00:00-04:00\",\"2022-07-28T00:00:00-04:00\",\"2022-07-29T00:00:00-04:00\",\"2022-08-01T00:00:00-04:00\",\"2022-08-02T00:00:00-04:00\",\"2022-08-03T00:00:00-04:00\",\"2022-08-04T00:00:00-04:00\",\"2022-08-05T00:00:00-04:00\",\"2022-08-08T00:00:00-04:00\",\"2022-08-09T00:00:00-04:00\",\"2022-08-10T00:00:00-04:00\",\"2022-08-11T00:00:00-04:00\",\"2022-08-12T00:00:00-04:00\",\"2022-08-15T00:00:00-04:00\",\"2022-08-16T00:00:00-04:00\",\"2022-08-17T00:00:00-04:00\",\"2022-08-18T00:00:00-04:00\",\"2022-08-19T00:00:00-04:00\",\"2022-08-22T00:00:00-04:00\",\"2022-08-23T00:00:00-04:00\",\"2022-08-24T00:00:00-04:00\",\"2022-08-25T00:00:00-04:00\",\"2022-08-26T00:00:00-04:00\",\"2022-08-29T00:00:00-04:00\",\"2022-08-30T00:00:00-04:00\",\"2022-08-31T00:00:00-04:00\",\"2022-09-01T00:00:00-04:00\",\"2022-09-02T00:00:00-04:00\",\"2022-09-06T00:00:00-04:00\",\"2022-09-07T00:00:00-04:00\",\"2022-09-08T00:00:00-04:00\",\"2022-09-09T00:00:00-04:00\",\"2022-09-12T00:00:00-04:00\",\"2022-09-13T00:00:00-04:00\",\"2022-09-14T00:00:00-04:00\",\"2022-09-15T00:00:00-04:00\",\"2022-09-16T00:00:00-04:00\",\"2022-09-19T00:00:00-04:00\",\"2022-09-20T00:00:00-04:00\",\"2022-09-21T00:00:00-04:00\",\"2022-09-22T00:00:00-04:00\",\"2022-09-23T00:00:00-04:00\",\"2022-09-26T00:00:00-04:00\",\"2022-09-27T00:00:00-04:00\",\"2022-09-28T00:00:00-04:00\",\"2022-09-29T00:00:00-04:00\",\"2022-09-30T00:00:00-04:00\",\"2022-10-03T00:00:00-04:00\",\"2022-10-04T00:00:00-04:00\",\"2022-10-05T00:00:00-04:00\",\"2022-10-06T00:00:00-04:00\",\"2022-10-07T00:00:00-04:00\",\"2022-10-10T00:00:00-04:00\",\"2022-10-11T00:00:00-04:00\",\"2022-10-12T00:00:00-04:00\",\"2022-10-13T00:00:00-04:00\",\"2022-10-14T00:00:00-04:00\",\"2022-10-17T00:00:00-04:00\",\"2022-10-18T00:00:00-04:00\",\"2022-10-19T00:00:00-04:00\",\"2022-10-20T00:00:00-04:00\",\"2022-10-21T00:00:00-04:00\",\"2022-10-24T00:00:00-04:00\",\"2022-10-25T00:00:00-04:00\",\"2022-10-26T00:00:00-04:00\",\"2022-10-27T00:00:00-04:00\",\"2022-10-28T00:00:00-04:00\",\"2022-10-31T00:00:00-04:00\",\"2022-11-01T00:00:00-04:00\",\"2022-11-02T00:00:00-04:00\",\"2022-11-03T00:00:00-04:00\",\"2022-11-04T00:00:00-04:00\",\"2022-11-07T00:00:00-05:00\",\"2022-11-08T00:00:00-05:00\",\"2022-11-09T00:00:00-05:00\",\"2022-11-10T00:00:00-05:00\",\"2022-11-11T00:00:00-05:00\",\"2022-11-14T00:00:00-05:00\",\"2022-11-15T00:00:00-05:00\",\"2022-11-16T00:00:00-05:00\",\"2022-11-17T00:00:00-05:00\",\"2022-11-18T00:00:00-05:00\",\"2022-11-21T00:00:00-05:00\",\"2022-11-22T00:00:00-05:00\",\"2022-11-23T00:00:00-05:00\",\"2022-11-25T00:00:00-05:00\",\"2022-11-28T00:00:00-05:00\",\"2022-11-29T00:00:00-05:00\",\"2022-11-30T00:00:00-05:00\",\"2022-12-01T00:00:00-05:00\",\"2022-12-02T00:00:00-05:00\",\"2022-12-05T00:00:00-05:00\",\"2022-12-06T00:00:00-05:00\",\"2022-12-07T00:00:00-05:00\",\"2022-12-08T00:00:00-05:00\",\"2022-12-09T00:00:00-05:00\",\"2022-12-12T00:00:00-05:00\",\"2022-12-13T00:00:00-05:00\",\"2022-12-14T00:00:00-05:00\",\"2022-12-15T00:00:00-05:00\",\"2022-12-16T00:00:00-05:00\",\"2022-12-19T00:00:00-05:00\",\"2022-12-20T00:00:00-05:00\",\"2022-12-21T00:00:00-05:00\",\"2022-12-22T00:00:00-05:00\",\"2022-12-23T00:00:00-05:00\",\"2022-12-27T00:00:00-05:00\",\"2022-12-28T00:00:00-05:00\",\"2022-12-29T00:00:00-05:00\",\"2022-12-30T00:00:00-05:00\",\"2023-01-03T00:00:00-05:00\",\"2023-01-04T00:00:00-05:00\",\"2023-01-05T00:00:00-05:00\",\"2023-01-06T00:00:00-05:00\",\"2023-01-09T00:00:00-05:00\",\"2023-01-10T00:00:00-05:00\",\"2023-01-11T00:00:00-05:00\",\"2023-01-12T00:00:00-05:00\",\"2023-01-13T00:00:00-05:00\",\"2023-01-17T00:00:00-05:00\",\"2023-01-18T00:00:00-05:00\",\"2023-01-19T00:00:00-05:00\",\"2023-01-20T00:00:00-05:00\",\"2023-01-23T00:00:00-05:00\",\"2023-01-24T00:00:00-05:00\",\"2023-01-25T00:00:00-05:00\",\"2023-01-26T00:00:00-05:00\",\"2023-01-27T00:00:00-05:00\",\"2023-01-30T00:00:00-05:00\",\"2023-01-31T00:00:00-05:00\",\"2023-02-01T00:00:00-05:00\",\"2023-02-02T00:00:00-05:00\",\"2023-02-03T00:00:00-05:00\",\"2023-02-06T00:00:00-05:00\",\"2023-02-07T00:00:00-05:00\",\"2023-02-08T00:00:00-05:00\",\"2023-02-09T00:00:00-05:00\",\"2023-02-10T00:00:00-05:00\",\"2023-02-13T00:00:00-05:00\",\"2023-02-14T00:00:00-05:00\",\"2023-02-15T00:00:00-05:00\",\"2023-02-16T00:00:00-05:00\",\"2023-02-17T00:00:00-05:00\",\"2023-02-21T00:00:00-05:00\",\"2023-02-22T00:00:00-05:00\",\"2023-02-23T00:00:00-05:00\",\"2023-02-24T00:00:00-05:00\",\"2023-02-27T00:00:00-05:00\",\"2023-02-28T00:00:00-05:00\",\"2023-03-01T00:00:00-05:00\",\"2023-03-02T00:00:00-05:00\",\"2023-03-03T00:00:00-05:00\",\"2023-03-06T00:00:00-05:00\",\"2023-03-07T00:00:00-05:00\",\"2023-03-08T00:00:00-05:00\",\"2023-03-09T00:00:00-05:00\",\"2023-03-10T00:00:00-05:00\",\"2023-03-13T00:00:00-04:00\",\"2023-03-14T00:00:00-04:00\",\"2023-03-15T00:00:00-04:00\",\"2023-03-16T00:00:00-04:00\",\"2023-03-17T00:00:00-04:00\",\"2023-03-20T00:00:00-04:00\",\"2023-03-21T00:00:00-04:00\",\"2023-03-22T00:00:00-04:00\",\"2023-03-23T00:00:00-04:00\",\"2023-03-24T00:00:00-04:00\",\"2023-03-27T00:00:00-04:00\",\"2023-03-28T00:00:00-04:00\",\"2023-03-29T00:00:00-04:00\",\"2023-03-30T00:00:00-04:00\",\"2023-03-31T00:00:00-04:00\",\"2023-04-03T00:00:00-04:00\",\"2023-04-04T00:00:00-04:00\",\"2023-04-05T00:00:00-04:00\",\"2023-04-06T00:00:00-04:00\",\"2023-04-10T00:00:00-04:00\",\"2023-04-11T00:00:00-04:00\",\"2023-04-12T00:00:00-04:00\",\"2023-04-13T00:00:00-04:00\",\"2023-04-14T00:00:00-04:00\",\"2023-04-17T00:00:00-04:00\",\"2023-04-18T00:00:00-04:00\",\"2023-04-19T00:00:00-04:00\",\"2023-04-20T00:00:00-04:00\",\"2023-04-21T00:00:00-04:00\",\"2023-04-24T00:00:00-04:00\",\"2023-04-25T00:00:00-04:00\",\"2023-04-26T00:00:00-04:00\",\"2023-04-27T00:00:00-04:00\",\"2023-04-28T00:00:00-04:00\",\"2023-05-01T00:00:00-04:00\",\"2023-05-02T00:00:00-04:00\",\"2023-05-03T00:00:00-04:00\",\"2023-05-04T00:00:00-04:00\",\"2023-05-05T00:00:00-04:00\",\"2023-05-08T00:00:00-04:00\",\"2023-05-09T00:00:00-04:00\",\"2023-05-10T00:00:00-04:00\",\"2023-05-11T00:00:00-04:00\",\"2023-05-12T00:00:00-04:00\",\"2023-05-15T00:00:00-04:00\",\"2023-05-16T00:00:00-04:00\",\"2023-05-17T00:00:00-04:00\",\"2023-05-18T00:00:00-04:00\",\"2023-05-19T00:00:00-04:00\",\"2023-05-22T00:00:00-04:00\",\"2023-05-23T00:00:00-04:00\",\"2023-05-24T00:00:00-04:00\",\"2023-05-25T00:00:00-04:00\",\"2023-05-26T00:00:00-04:00\",\"2023-05-30T00:00:00-04:00\",\"2023-05-31T00:00:00-04:00\",\"2023-06-01T00:00:00-04:00\",\"2023-06-02T00:00:00-04:00\",\"2023-06-05T00:00:00-04:00\",\"2023-06-06T00:00:00-04:00\",\"2023-06-07T00:00:00-04:00\",\"2023-06-08T00:00:00-04:00\",\"2023-06-09T00:00:00-04:00\",\"2023-06-12T00:00:00-04:00\",\"2023-06-13T00:00:00-04:00\",\"2023-06-14T00:00:00-04:00\",\"2023-06-15T00:00:00-04:00\",\"2023-06-16T00:00:00-04:00\",\"2023-06-20T00:00:00-04:00\",\"2023-06-21T00:00:00-04:00\",\"2023-06-22T00:00:00-04:00\",\"2023-06-23T00:00:00-04:00\",\"2023-06-26T00:00:00-04:00\",\"2023-06-27T00:00:00-04:00\",\"2023-06-28T00:00:00-04:00\",\"2023-06-29T00:00:00-04:00\",\"2023-06-30T00:00:00-04:00\",\"2023-07-03T00:00:00-04:00\",\"2023-07-05T00:00:00-04:00\",\"2023-07-06T00:00:00-04:00\",\"2023-07-07T00:00:00-04:00\",\"2023-07-10T00:00:00-04:00\",\"2023-07-11T00:00:00-04:00\",\"2023-07-12T00:00:00-04:00\",\"2023-07-13T00:00:00-04:00\",\"2023-07-14T00:00:00-04:00\",\"2023-07-17T00:00:00-04:00\",\"2023-07-18T00:00:00-04:00\",\"2023-07-19T00:00:00-04:00\",\"2023-07-20T00:00:00-04:00\",\"2023-07-21T00:00:00-04:00\",\"2023-07-24T00:00:00-04:00\",\"2023-07-25T00:00:00-04:00\",\"2023-07-26T00:00:00-04:00\",\"2023-07-27T00:00:00-04:00\",\"2023-07-28T00:00:00-04:00\",\"2023-07-31T00:00:00-04:00\",\"2023-08-01T00:00:00-04:00\",\"2023-08-02T00:00:00-04:00\",\"2023-08-03T00:00:00-04:00\",\"2023-08-04T00:00:00-04:00\",\"2023-08-07T00:00:00-04:00\",\"2023-08-08T00:00:00-04:00\",\"2023-08-09T00:00:00-04:00\",\"2023-08-10T00:00:00-04:00\",\"2023-08-11T00:00:00-04:00\",\"2023-08-14T00:00:00-04:00\",\"2023-08-15T00:00:00-04:00\",\"2023-08-16T00:00:00-04:00\",\"2023-08-17T00:00:00-04:00\",\"2023-08-18T00:00:00-04:00\",\"2023-08-21T00:00:00-04:00\",\"2023-08-22T00:00:00-04:00\",\"2023-08-23T00:00:00-04:00\",\"2023-08-24T00:00:00-04:00\",\"2023-08-25T00:00:00-04:00\",\"2023-08-28T00:00:00-04:00\",\"2023-08-29T00:00:00-04:00\",\"2023-08-30T00:00:00-04:00\",\"2023-08-31T00:00:00-04:00\",\"2023-09-01T00:00:00-04:00\",\"2023-09-05T00:00:00-04:00\",\"2023-09-06T00:00:00-04:00\",\"2023-09-07T00:00:00-04:00\",\"2023-09-08T00:00:00-04:00\",\"2023-09-11T00:00:00-04:00\",\"2023-09-12T00:00:00-04:00\",\"2023-09-13T00:00:00-04:00\",\"2023-09-14T00:00:00-04:00\",\"2023-09-15T00:00:00-04:00\",\"2023-09-18T00:00:00-04:00\",\"2023-09-19T00:00:00-04:00\",\"2023-09-20T00:00:00-04:00\",\"2023-09-21T00:00:00-04:00\",\"2023-09-22T00:00:00-04:00\",\"2023-09-25T00:00:00-04:00\",\"2023-09-26T00:00:00-04:00\",\"2023-09-27T00:00:00-04:00\",\"2023-09-28T00:00:00-04:00\",\"2023-09-29T00:00:00-04:00\",\"2023-10-02T00:00:00-04:00\",\"2023-10-03T00:00:00-04:00\",\"2023-10-04T00:00:00-04:00\",\"2023-10-05T00:00:00-04:00\",\"2023-10-06T00:00:00-04:00\",\"2023-10-09T00:00:00-04:00\",\"2023-10-10T00:00:00-04:00\",\"2023-10-11T00:00:00-04:00\",\"2023-10-12T00:00:00-04:00\",\"2023-10-13T00:00:00-04:00\",\"2023-10-16T00:00:00-04:00\",\"2023-10-17T00:00:00-04:00\",\"2023-10-18T00:00:00-04:00\",\"2023-10-19T00:00:00-04:00\",\"2023-10-20T00:00:00-04:00\",\"2023-10-23T00:00:00-04:00\",\"2023-10-24T00:00:00-04:00\",\"2023-10-25T00:00:00-04:00\",\"2023-10-26T00:00:00-04:00\",\"2023-10-27T00:00:00-04:00\",\"2023-10-30T00:00:00-04:00\",\"2023-10-31T00:00:00-04:00\",\"2023-11-01T00:00:00-04:00\",\"2023-11-02T00:00:00-04:00\",\"2023-11-03T00:00:00-04:00\",\"2023-11-06T00:00:00-05:00\",\"2023-11-07T00:00:00-05:00\",\"2023-11-08T00:00:00-05:00\",\"2023-11-09T00:00:00-05:00\",\"2023-11-10T00:00:00-05:00\",\"2023-11-13T00:00:00-05:00\",\"2023-11-14T00:00:00-05:00\",\"2023-11-15T00:00:00-05:00\",\"2023-11-16T00:00:00-05:00\",\"2023-11-17T00:00:00-05:00\",\"2023-11-20T00:00:00-05:00\",\"2023-11-21T00:00:00-05:00\",\"2023-11-22T00:00:00-05:00\",\"2023-11-24T00:00:00-05:00\",\"2023-11-27T00:00:00-05:00\",\"2023-11-28T00:00:00-05:00\",\"2023-11-29T00:00:00-05:00\",\"2023-11-30T00:00:00-05:00\",\"2023-12-01T00:00:00-05:00\",\"2023-12-04T00:00:00-05:00\",\"2023-12-05T00:00:00-05:00\",\"2023-12-06T00:00:00-05:00\",\"2023-12-07T00:00:00-05:00\",\"2023-12-08T00:00:00-05:00\",\"2023-12-11T00:00:00-05:00\",\"2023-12-12T00:00:00-05:00\",\"2023-12-13T00:00:00-05:00\",\"2023-12-14T00:00:00-05:00\",\"2023-12-15T00:00:00-05:00\",\"2023-12-18T00:00:00-05:00\",\"2023-12-19T00:00:00-05:00\",\"2023-12-20T00:00:00-05:00\",\"2023-12-21T00:00:00-05:00\",\"2023-12-22T00:00:00-05:00\",\"2023-12-26T00:00:00-05:00\",\"2023-12-27T00:00:00-05:00\",\"2023-12-28T00:00:00-05:00\",\"2023-12-29T00:00:00-05:00\",\"2024-01-02T00:00:00-05:00\",\"2024-01-03T00:00:00-05:00\",\"2024-01-04T00:00:00-05:00\",\"2024-01-05T00:00:00-05:00\",\"2024-01-08T00:00:00-05:00\",\"2024-01-09T00:00:00-05:00\",\"2024-01-10T00:00:00-05:00\",\"2024-01-11T00:00:00-05:00\",\"2024-01-12T00:00:00-05:00\",\"2024-01-16T00:00:00-05:00\",\"2024-01-17T00:00:00-05:00\",\"2024-01-18T00:00:00-05:00\",\"2024-01-19T00:00:00-05:00\",\"2024-01-22T00:00:00-05:00\",\"2024-01-23T00:00:00-05:00\",\"2024-01-24T00:00:00-05:00\",\"2024-01-25T00:00:00-05:00\",\"2024-01-26T00:00:00-05:00\",\"2024-01-29T00:00:00-05:00\",\"2024-01-30T00:00:00-05:00\",\"2024-01-31T00:00:00-05:00\",\"2024-02-01T00:00:00-05:00\",\"2024-02-02T00:00:00-05:00\",\"2024-02-05T00:00:00-05:00\",\"2024-02-06T00:00:00-05:00\",\"2024-02-07T00:00:00-05:00\",\"2024-02-08T00:00:00-05:00\",\"2024-02-09T00:00:00-05:00\",\"2024-02-12T00:00:00-05:00\",\"2024-02-13T00:00:00-05:00\",\"2024-02-14T00:00:00-05:00\",\"2024-02-15T00:00:00-05:00\",\"2024-02-16T00:00:00-05:00\",\"2024-02-20T00:00:00-05:00\",\"2024-02-21T00:00:00-05:00\",\"2024-02-22T00:00:00-05:00\",\"2024-02-23T00:00:00-05:00\",\"2024-02-26T00:00:00-05:00\",\"2024-02-27T00:00:00-05:00\",\"2024-02-28T00:00:00-05:00\",\"2024-02-29T00:00:00-05:00\",\"2024-03-01T00:00:00-05:00\",\"2024-03-04T00:00:00-05:00\",\"2024-03-05T00:00:00-05:00\",\"2024-03-06T00:00:00-05:00\",\"2024-03-07T00:00:00-05:00\",\"2024-03-08T00:00:00-05:00\",\"2024-03-11T00:00:00-04:00\",\"2024-03-12T00:00:00-04:00\",\"2024-03-13T00:00:00-04:00\",\"2024-03-14T00:00:00-04:00\",\"2024-03-15T00:00:00-04:00\",\"2024-03-18T00:00:00-04:00\",\"2024-03-19T00:00:00-04:00\",\"2024-03-20T00:00:00-04:00\",\"2024-03-21T00:00:00-04:00\",\"2024-03-22T00:00:00-04:00\",\"2024-03-25T00:00:00-04:00\",\"2024-03-26T00:00:00-04:00\",\"2024-03-27T00:00:00-04:00\",\"2024-03-28T00:00:00-04:00\",\"2024-04-01T00:00:00-04:00\",\"2024-04-02T00:00:00-04:00\",\"2024-04-03T00:00:00-04:00\",\"2024-04-04T00:00:00-04:00\",\"2024-04-05T00:00:00-04:00\",\"2024-04-08T00:00:00-04:00\",\"2024-04-09T00:00:00-04:00\",\"2024-04-10T00:00:00-04:00\",\"2024-04-11T00:00:00-04:00\",\"2024-04-12T00:00:00-04:00\",\"2024-04-15T00:00:00-04:00\",\"2024-04-16T00:00:00-04:00\",\"2024-04-17T00:00:00-04:00\",\"2024-04-18T00:00:00-04:00\",\"2024-04-19T00:00:00-04:00\",\"2024-04-22T00:00:00-04:00\",\"2024-04-23T00:00:00-04:00\",\"2024-04-24T00:00:00-04:00\",\"2024-04-25T00:00:00-04:00\",\"2024-04-26T00:00:00-04:00\",\"2024-04-29T00:00:00-04:00\",\"2024-04-30T00:00:00-04:00\",\"2024-05-01T00:00:00-04:00\",\"2024-05-02T00:00:00-04:00\",\"2024-05-03T00:00:00-04:00\",\"2024-05-06T00:00:00-04:00\",\"2024-05-07T00:00:00-04:00\",\"2024-05-08T00:00:00-04:00\",\"2024-05-09T00:00:00-04:00\",\"2024-05-10T00:00:00-04:00\",\"2024-05-13T00:00:00-04:00\",\"2024-05-14T00:00:00-04:00\",\"2024-05-15T00:00:00-04:00\",\"2024-05-16T00:00:00-04:00\",\"2024-05-17T00:00:00-04:00\",\"2024-05-20T00:00:00-04:00\",\"2024-05-21T00:00:00-04:00\",\"2024-05-22T00:00:00-04:00\",\"2024-05-23T00:00:00-04:00\",\"2024-05-24T00:00:00-04:00\",\"2024-05-28T00:00:00-04:00\",\"2024-05-29T00:00:00-04:00\",\"2024-05-30T00:00:00-04:00\",\"2024-05-31T00:00:00-04:00\",\"2024-06-03T00:00:00-04:00\",\"2024-06-04T00:00:00-04:00\",\"2024-06-05T00:00:00-04:00\",\"2024-06-06T00:00:00-04:00\",\"2024-06-07T00:00:00-04:00\",\"2024-06-10T00:00:00-04:00\",\"2024-06-11T00:00:00-04:00\",\"2024-06-12T00:00:00-04:00\",\"2024-06-13T00:00:00-04:00\",\"2024-06-14T00:00:00-04:00\",\"2024-06-17T00:00:00-04:00\",\"2024-06-18T00:00:00-04:00\",\"2024-06-20T00:00:00-04:00\",\"2024-06-21T00:00:00-04:00\",\"2024-06-24T00:00:00-04:00\",\"2024-06-25T00:00:00-04:00\",\"2024-06-26T00:00:00-04:00\",\"2024-06-27T00:00:00-04:00\",\"2024-06-28T00:00:00-04:00\",\"2024-07-01T00:00:00-04:00\",\"2024-07-02T00:00:00-04:00\",\"2024-07-03T00:00:00-04:00\",\"2024-07-05T00:00:00-04:00\",\"2024-07-08T00:00:00-04:00\",\"2024-07-09T00:00:00-04:00\",\"2024-07-10T00:00:00-04:00\",\"2024-07-11T00:00:00-04:00\",\"2024-07-12T00:00:00-04:00\",\"2024-07-15T00:00:00-04:00\",\"2024-07-16T00:00:00-04:00\",\"2024-07-17T00:00:00-04:00\",\"2024-07-18T00:00:00-04:00\",\"2024-07-19T00:00:00-04:00\",\"2024-07-22T00:00:00-04:00\",\"2024-07-23T00:00:00-04:00\",\"2024-07-24T00:00:00-04:00\",\"2024-07-25T00:00:00-04:00\",\"2024-07-26T00:00:00-04:00\",\"2024-07-29T00:00:00-04:00\",\"2024-07-30T00:00:00-04:00\",\"2024-07-31T00:00:00-04:00\",\"2024-08-01T00:00:00-04:00\",\"2024-08-02T00:00:00-04:00\",\"2024-08-05T00:00:00-04:00\",\"2024-08-06T00:00:00-04:00\",\"2024-08-07T00:00:00-04:00\",\"2024-08-08T00:00:00-04:00\",\"2024-08-09T00:00:00-04:00\",\"2024-08-12T00:00:00-04:00\",\"2024-08-13T00:00:00-04:00\",\"2024-08-14T00:00:00-04:00\",\"2024-08-15T00:00:00-04:00\",\"2024-08-16T00:00:00-04:00\",\"2024-08-19T00:00:00-04:00\",\"2024-08-20T00:00:00-04:00\",\"2024-08-21T00:00:00-04:00\",\"2024-08-22T00:00:00-04:00\",\"2024-08-23T00:00:00-04:00\",\"2024-08-26T00:00:00-04:00\",\"2024-08-27T00:00:00-04:00\",\"2024-08-28T00:00:00-04:00\",\"2024-08-29T00:00:00-04:00\",\"2024-08-30T00:00:00-04:00\",\"2024-09-03T00:00:00-04:00\",\"2024-09-04T00:00:00-04:00\",\"2024-09-05T00:00:00-04:00\",\"2024-09-06T00:00:00-04:00\",\"2024-09-09T00:00:00-04:00\",\"2024-09-10T00:00:00-04:00\",\"2024-09-11T00:00:00-04:00\",\"2024-09-12T00:00:00-04:00\",\"2024-09-13T00:00:00-04:00\",\"2024-09-16T00:00:00-04:00\",\"2024-09-17T00:00:00-04:00\",\"2024-09-18T00:00:00-04:00\",\"2024-09-19T00:00:00-04:00\",\"2024-09-20T00:00:00-04:00\",\"2024-09-23T00:00:00-04:00\",\"2024-09-24T00:00:00-04:00\",\"2024-09-25T00:00:00-04:00\",\"2024-09-26T00:00:00-04:00\",\"2024-09-27T00:00:00-04:00\",\"2024-09-30T00:00:00-04:00\",\"2024-10-01T00:00:00-04:00\",\"2024-10-02T00:00:00-04:00\",\"2024-10-03T00:00:00-04:00\",\"2024-10-04T00:00:00-04:00\",\"2024-10-07T00:00:00-04:00\",\"2024-10-08T00:00:00-04:00\",\"2024-10-09T00:00:00-04:00\",\"2024-10-10T00:00:00-04:00\",\"2024-10-11T00:00:00-04:00\",\"2024-10-14T00:00:00-04:00\",\"2024-10-15T00:00:00-04:00\",\"2024-10-16T00:00:00-04:00\",\"2024-10-17T00:00:00-04:00\",\"2024-10-18T00:00:00-04:00\",\"2024-10-21T00:00:00-04:00\",\"2024-10-22T00:00:00-04:00\",\"2024-10-23T00:00:00-04:00\",\"2024-10-24T00:00:00-04:00\",\"2024-10-25T00:00:00-04:00\",\"2024-10-28T00:00:00-04:00\",\"2024-10-29T00:00:00-04:00\",\"2024-10-30T00:00:00-04:00\",\"2024-10-31T00:00:00-04:00\",\"2024-11-01T00:00:00-04:00\",\"2024-11-04T00:00:00-05:00\",\"2024-11-05T00:00:00-05:00\",\"2024-11-06T00:00:00-05:00\",\"2024-11-07T00:00:00-05:00\",\"2024-11-08T00:00:00-05:00\",\"2024-11-11T00:00:00-05:00\",\"2024-11-12T00:00:00-05:00\",\"2024-11-13T00:00:00-05:00\",\"2024-11-14T00:00:00-05:00\",\"2024-11-15T00:00:00-05:00\",\"2024-11-18T00:00:00-05:00\"],\"xaxis\":\"x\",\"y\":[143.59722900390625,143.64498901367188,143.39581298828125,143.2616424560547,143.36708068847656,144.93885803222656,145.70550537109375,145.9835205078125,145.08258056640625,143.3287353515625,143.09869384765625,143.6162567138672,143.69290161132812,145.43719482421875,145.0634307861328,144.84300231933594,145.3892822265625,146.86520385742188,148.10154724121094,149.0599365234375,148.25491333007812,147.94818115234375,149.2324676513672,150.86175537109375,150.86175537109375,150.8329620361328,152.06932067871094,152.34727478027344,151.03424072265625,151.1397247314453,153.93821716308594,152.02142333984375,152.41433715820312,151.02468872070312,153.43026733398438,155.3470458984375,154.62823486328125,156.48756408691406,155.38540649414062,156.39170837402344,159.25732421875,160.1486358642578,159.5736083984375,158.806884765625,159.78443908691406,158.17431640625,155.5291748046875,158.57687377929688,161.04954528808594,165.59234619140625,163.14842224121094,167.1257781982422,172.62698364257812,172.41615295410156,175.9910125732422,176.24017333984375,180.85011291503906,176.7672882080078,177.0260772705078,176.06768798828125,177.6394500732422,179.44122314453125,179.9794158935547,177.2309112548828,171.62815856933594,164.22833251953125,161.51824951171875,163.536376953125,152.01376342773438,155.69448852539062,166.05426025390625,158.0970458984375,163.90158081054688,159.7884063720703,155.27166748046875,144.74847412109375,154.64695739746094,147.64120483398438,133.63916015625,152.638427734375,130.14102172851562,140.8563995361328,134.9268798828125,137.14686584472656,131.9957733154297,130.67919921875,142.557373046875,141.19273376464844,150.0244903564453,143.86434936523438,153.98388671875,151.56210327148438,146.18043518066406,149.2075958251953,147.83334350585938,158.82740783691406,157.11680603027344,158.69285583496094,158.7024688720703,159.0580596923828,166.9287872314453,165.1797332763672,170.1385955810547,171.6377716064453,168.23574829101562,161.2779998779297,166.7558135986328,164.7376708984375,167.74563598632812,167.26513671875,163.1904296875,170.5133819580078,172.22398376464844,167.76487731933594,171.86842346191406,173.7135772705078,175.4241943359375,176.44285583496094,177.480712890625,179.46044921875,175.3953399658203,172.74298095703125,173.49252319335938,176.02001953125,177.70179748535156,176.4716796875,178.9194793701172,176.7704315185547,176.8474884033203,174.97796630859375,175.2092742919922,174.8141632080078,176.5970001220703,176.1921844482422,178.19668579101562,178.63034057617188,176.27894592285156,180.40353393554688,181.52142333984375,182.90916442871094,189.6935577392578,179.50733947753906,180.9239959716797,182.08041381835938,186.5423126220703,187.18800354003906,189.1924591064453,188.06491088867188,193.28814697265625,194.57952880859375,190.65728759765625,193.06651306152344,189.20211791992188,191.23548889160156,196.12144470214844,197.2681884765625,198.7715606689453,203.05038452148438,200.68930053710938,205.10305786132812,206.53897094726562,205.91256713867188,199.55215454101562,200.78567504882812,200.48695373535156,196.51649475097656,195.5142822265625,203.91769409179688,201.17115783691406,204.06224060058594,195.1865997314453,193.9916534423828,196.44911193847656,194.68553161621094,196.65147399902344,196.4972381591797,197.56695556640625,208.6783447265625,205.5463409423828,205.20904541015625,208.4952392578125,204.76576232910156,200.68930053710938,195.9961700439453,201.59519958496094,201.12301635742188,201.31573486328125,202.64564514160156,203.8116912841797,202.57521057128906,207.28939819335938,205.7823944091797,206.4296417236328,209.1151885986328,213.6361541748047,218.88168334960938,221.13250732421875,217.8673095703125,219.5482177734375,223.77938842773438,209.91696166992188,206.97059631347656,195.7743682861328,204.1111297607422,198.39230346679688,197.09783935546875,198.4309844970703,201.6864471435547,198.0831756591797,196.01588439941406,193.5814971923828,195.658447265625,200.37265014648438,193.7747039794922,196.2864227294922,200.75906372070312,202.3240509033203,200.21810913085938,203.18380737304688,205.24143981933594,199.18443298339844,203.2321014404297,198.91400146484375,202.70079040527344,203.42530822753906,208.4776153564453,213.87767028808594,215.28805541992188,213.3560333251953,212.19677734375,212.19677734375,206.94161987304688,207.3570098876953,207.5019073486328,207.58888244628906,208.88331604003906,202.9422607421875,206.0045928955078,195.79373168945312,197.76441955566406,195.5908660888672,195.45559692382812,199.41629028320312,209.0378875732422,215.7034454345703,216.1188201904297,210.96994018554688,203.8406982421875,209.1924591064453,208.1201629638672,209.15380859375,209.84938049316406,207.1734619140625,204.44219970703125,205.74000549316406,203.7738494873047,203.50262451171875,207.13473510742188,207.14437866210938,208.4616241455078,207.338134765625,209.41085815429688,208.59722900390625,207.50279235839844,207.61898803710938,207.55117797851562,209.2170867919922,205.1394805908203,203.89976501464844,206.55360412597656,207.4640350341797,207.39625549316406,212.38427734375,212.51986694335938,211.71597290039062,215.59019470214844,216.89773559570312,214.069580078125,215.7451629638672,217.88563537597656,217.1011199951172,214.7088165283203,215.42555236816406,210.84426879882812,211.04769897460938,205.57533264160156,211.4254150390625,212.71359252929688,210.6505584716797,208.17108154296875,209.53675842285156,206.32113647460938,205.96278381347656,209.6335906982422,217.28515625,217.89535522460938,218.8445281982422,222.31195068359375,225.02392578125,225.5759735107422,231.41632080078125,224.66554260253906,232.11370849609375,231.97811889648438,235.3583526611328,234.3994903564453,234.58351135253906,234.84503173828125,236.10415649414062,235.1840362548828,236.801513671875,237.2857666015625,236.0363311767578,237.06539916992188,236.66732788085938,233.9297637939453,227.65847778320312,226.45468139648438,227.6973114013672,222.29977416992188,225.59071350097656,230.01748657226562,227.03717041015625,220.91151428222656,220.10577392578125,224.83349609375,220.74652099609375,226.94979858398438,225.62953186035156,230.20193481445312,228.86224365234375,227.94969177246094,230.7649688720703,230.1145477294922,223.97921752929688,223.62001037597656,229.09524536132812,230.63876342773438,228.58071899414062,225.5518798828125,229.5709228515625,228.3671417236328,225.07620239257812,228.88165283203125,235.26943969726562,241.79310607910156,240.61843872070312,242.59884643554688,245.85093688964844,248.37503051757812,248.4332275390625,250.9378662109375,248.1226043701172,251.91836547851562,253.12210083007812,251.18052673339844,250.714599609375,252.96681213378906,249.65640258789062,253.5201416015625,253.9084930419922,254.31619262695312,247.12266540527344,245.132568359375,244.8122100830078,244.50160217285156,240.55047607421875,239.26902770996094,242.43377685546875,245.0840301513672,239.9583282470703,239.0360565185547,232.01731872558594,235.92955017089844,240.89996337890625,238.01673889160156,235.9781036376953,236.56192016601562,239.83126831054688,238.5565948486328,244.01527404785156,244.929931640625,244.7061309814453,242.58494567871094,242.9449462890625,240.72642517089844,240.629150390625,239.08203125,244.0250244140625,246.96353149414062,245.75698852539062,246.74948120117188,250.30101013183594,250.93353271484375,252.8795166015625,251.3908233642578,250.43724060058594,253.8623046875,252.4319610595703,255.5457000732422,258.34796142578125,258.1144104003906,259.4960632324219,257.87115478515625,261.4713439941406,264.07904052734375,263.5925598144531,264.27362060546875,270.16046142578125,270.1701965332031,272.3790283203125,269.9366760253906,270.442626953125,269.83935546875,273.4006652832031,274.8893737792969,273.4493103027344,273.1768798828125,269.5377502441406,271.785400390625,273.809326171875,278.4214782714844,281.8562316894531,281.2529602050781,278.8106689453125,278.4992980957031,278.771728515625,277.2246398925781,277.1370849609375,279.37506103515625,278.7815246582031,281.7102966308594,281.65191650390625,280.55242919921875,278.71337890625,279.20965576171875,281.99249267578125,284.9504699707031,286.65325927734375,285.17425537109375,283.42919921875,289.3174743652344,296.7169189453125,296.9996337890625,295.0205993652344,294.4259338378906,291.5792236328125,292.19342041015625,295.9662780761719,294.2992248535156,294.25048828125,293.5875244140625,293.57781982421875,292.6419372558594,292.671142578125,289.78546142578125,288.28411865234375,289.5320129394531,292.26165771484375,297.1654052734375,297.5553283691406,292.33966064453125,286.9095153808594,287.39697265625,291.0820617675781,292.03741455078125,291.832763671875,286.78277587890625,276.4002685546875,276.8681945800781,274.8404235839844,281.84014892578125,276.00054931640625,281.5086364746094,285.7493896484375,287.4457092285156,287.4457092285156,286.8412780761719,285.5252380371094,288.86907958984375,295.1473388671875,296.5707092285156,299.5733642578125,300.4897766113281,299.69036865234375,302.9562072753906,301.3963317871094,300.3922424316406,302.3224792480469,315.0545959472656,316.2049865722656,323.2923583984375,321.0989074707031,324.7644348144531,325.6126403808594,327.9913330078125,327.62091064453125,328.52752685546875,327.5137023925781,322.4930114746094,324.0820007324219,328.2643127441406,327.63067626953125,330.9842529296875,331.2088623046875,333.3087463378906,335.1058044433594,331.9023132324219,329.8024597167969,330.02703857421875,321.9890441894531,328.7770080566406,322.87786865234375,322.3797302246094,321.8035583496094,315.4747009277344,318.58050537109375,327.1068420410156,327.1556701660156,325.329345703125,334.549072265625,331.48236083984375,320.68035888671875,326.8431701660156,317.320556640625,316.2462158203125,312.447021484375,319.6549377441406,325.4269714355469,326.8822021484375,334.4612121582031,333.2891845703125,333.972900390625,331.4041748046875,328.47418212890625,326.94085693359375,321.334716796875,308.99932861328125,306.5577087402344,306.7140197753906,306.9385681152344,307.63201904296875,310.8452453613281,297.6895446777344,302.96356201171875,295.58966064453125,296.2537841796875,294.564208984375,289.12408447265625,289.4561767578125,281.7599792480469,289.7882080078125,292.84521484375,301.0688171386719,303.7253723144531,301.55712890625,306.1474609375,294.22235107421875,298.8028869628906,293.9293212890625,297.45513916015625,303.9499816894531,295.32598876953125,288.1572265625,288.1181335449219,293.46051025390625,293.1180725097656,284.534912109375,281.7945556640625,281.5889892578125,274.2977600097656,288.3125915527344,290.974609375,292.42315673828125,288.6648864746094,293.7933044433594,289.6142883300781,283.68341064453125,272.96673583984375,269.971923828125,282.35235595703125,279.5043029785156,274.1020202636719,270.54931640625,281.0311584472656,288.11688232421875,288.92919921875,294.0281677246094,292.7852478027344,297.580810546875,293.108154296875,297.6199645996094,297.20892333984375,304.079345703125,308.68896484375,307.1719665527344,301.74029541015625,302.8266296386719,308.2583923339844,304.2554931640625,293.1180725097656,294.9481201171875,290.64190673828125,279.1814270019531,276.04962158203125,281.49114990234375,273.8671875,274.54241943359375,279.2205505371094,280.2580261230469,274.8262634277344,268.1907653808594,274.7381591796875,264.4619140625,277.1848449707031,283.45831298828125,271.6063537597656,278.4082336425781,275.77557373046875,283.8008728027344,271.44000244140625,268.87579345703125,258.9421081542969,263.7572937011719,254.9979248046875,249.9087677001953,255.5558624267578,255.92770385742188,261.1344299316406,249.24501037597656,248.32289123535156,247.75392150878906,255.68995666503906,254.6795654296875,257.5244140625,260.840087890625,268.0404357910156,266.6964416503906,267.2359619140625,269.3548889160156,264.8816223144531,263.63580322265625,267.31451416015625,265.2642822265625,259.7511901855469,248.1757354736328,237.64993286132812,239.83749389648438,246.9691619873047,240.30836486816406,242.93734741210938,248.91148376464844,248.31307983398438,253.93402099609375,262.6058044433594,259.84930419921875,251.59934997558594,255.3074188232422,251.9426727294922,254.64035034179688,257.84808349609375,261.1441955566406,263.2924499511719,262.56658935546875,259.4765319824219,248.8428192138672,247.910888671875,249.24501037597656,251.83477783203125,249.4117431640625,254.59127807617188,257.2791442871094,259.80023193359375,255.40545654296875,253.9045867919922,247.10647583007812,263.62603759765625,271.15008544921875,275.39764404296875,272.71966552734375,269.59039306640625,277.09478759765625,278.2522888183594,277.5263671875,274.9857177734375,276.927978515625,283.657470703125,281.55816650390625,286.3551025390625,287.88543701171875,287.139892578125,286.3829345703125,285.2524719238281,281.300537109375,273.04290771484375,271.7550964355469,271.11614990234375,274.12420654296875,263.54669189453125,260.7350769042969,258.5133972167969,257.0388488769531,255.98690795898438,251.72047424316406,248.95811462402344,253.71607971191406,254.13882446289062,259.9781494140625,262.131103515625,247.719482421875,247.94557189941406,241.2214813232422,240.5923309326172,240.37608337402344,238.34115600585938,234.90045166015625,236.89605712890625,233.88792419433594,233.4259033203125,232.4034881591797,236.98452758789062,233.4750213623047,228.9530029296875,236.66014099121094,244.6621856689453,244.9767608642578,242.6075897216797,230.27029418945312,225.36485290527344,221.5899200439453,221.92417907714844,230.27029418945312,224.6865234375,233.5045166015625,234.4580841064453,232.4723358154297,232.1479034423828,238.0167694091797,243.05979919433594,246.4120330810547,227.39981079101562,222.9072265625,231.87266540527344,228.19606018066406,224.3031463623047,216.3699188232422,210.6190643310547,217.6380615234375,224.0082244873047,224.99130249023438,220.70516967773438,238.86215209960938,242.92218017578125,237.45640563964844,237.8692626953125,238.30307006835938,238.2537384033203,237.80026245117188,238.61851501464844,241.5562286376953,244.0701141357422,243.9813690185547,238.33261108398438,236.9228973388672,251.52294921875,251.0792999267578,251.40464782714844,246.6529541015625,241.6449737548828,240.90562438964844,243.8926544189453,241.94073486328125,248.9302215576172,253.2777099609375,253.5734405517578,245.47982788085938,241.2210693359375,237.04116821289062,238.37203979492188,240.9647674560547,234.813232421875,235.34556579589844,233.60067749023438,231.20510864257812,237.59323120117188,236.4201202392578,236.18350219726562,225.85211181640625,219.1583709716797,221.74118041992188,223.900146484375,225.6056365966797,232.4275360107422,235.12869262695312,235.83847045898438,236.94259643554688,232.46697998046875,228.6419677734375,236.81443786621094,239.14097595214844,238.60862731933594,237.1989288330078,244.48414611816406,244.64187622070312,239.26914978027344,244.29684448242188,249.16680908203125,260.84881591796875,254.68740844726562,253.1298065185547,263.7668762207031,262.9486389160156,259.8826904296875,259.3700866699219,267.4735107421875,268.3115539550781,266.16693115234375,259.0808410644531,255.03871154785156,249.7118377685547,248.56541442871094,251.78724670410156,246.30221557617188,247.23123168945312,246.49989318847656,243.3867645263672,248.1701202392578,252.3011474609375,253.86265563964844,251.17449951171875,250.72975158691406,249.36593627929688,245.6796112060547,250.94720458984375,257.73681640625,262.33233642578125,272.9664001464844,276.15850830078125,269.0428771972656,270.5746765136719,269.1021423339844,274.4092712402344,277.2851867675781,273.1442565917969,272.0077209472656,277.22589111328125,280.7244567871094,284.9246826171875,283.8672180175781,283.8177795410156,281.0110778808594,288.18603515625,286.001953125,279.51873779296875,280.1709899902344,286.4466247558594,282.7900085449219,285.4188232421875,284.993896484375,285.07293701171875,282.76031494140625,282.4144287109375,278.4711608886719,272.19549560546875,291.91192626953125,301.26116943359375,303.6627197265625,301.9826354980469,301.83441162109375,300.8362121582031,301.83441162109375,307.01300048828125,305.0364685058594,303.4057922363281,308.653564453125,306.4793395996094,305.3527526855469,305.8369445800781,308.0903015136719,311.002197265625,315.4790344238281,315.30072021484375,318.1136779785156,312.25018310546875,310.8536376953125,322.80841064453125,329.7118835449219,328.0478820800781,325.25482177734375,329.40478515625,332.1978759765625,332.73272705078125,330.49432373046875,320.29266357421875,322.1546936035156,323.67010498046875,328.6817932128906,331.0984802246094,334.1193542480469,344.77667236328125,339.0617370605469,334.82257080078125,330.3754577636719,336.4667053222656,331.8215026855469,325.46282958984375,331.37579345703125,332.64361572265625,331.8511962890625,337.288818359375,334.76318359375,334.9216003417969,338.0118408203125,334.00048828125,328.6619567871094,329.2958679199219,333.9806823730469,339.3885803222656,341.9439392089844,342.42926025390625,356.0578918457031,351.6899719238281,343.5583801269531,340.48797607421875,341.815185546875,347.629150390625,334.5452575683594,327.56256103515625,335.1395568847656,332.71295166015625,333.12890625,324.3733215332031,323.5413513183594,324.650634765625,326.9583740234375,322.9371643066406,319.15362548828125,319.8469543457031,317.9452819824219,320.94635009765625,318.78717041015625,318.01300048828125,314.5191955566406,314.1221618652344,319.4819641113281,320.0576171875,324.5638122558594,317.586181640625,320.5737609863281,321.28839111328125,325.96331787109375,326.3404846191406,325.3181457519531,326.21142578125,331.0650329589844,330.3999938964844,327.4521484375,331.7796325683594,335.4223327636719,329.2982482910156,333.5563049316406,336.1766662597656,327.75982666015625,326.60845947265625,326.2015075683594,318.38018798828125,317.1494445800781,314.6482238769531,315.17425537109375,309.81451416015625,310.45965576171875,311.3033447265625,313.3976135253906,319.40252685546875,311.0552062988281,316.583740234375,316.9806823730469,324.8218688964844,327.36279296875,325.9434509277344,329.94342041015625,328.6927795410156,325.28839111328125,330.16180419921875,329.5860900878906,327.6506042480469,328.85162353515625,324.23626708984375,326.8665466308594,328.0675048828125,338.1319885253906,325.4471740722656,327.3528747558594,334.7969970703125,335.5910339355469,343.4917297363281,345.7250061035156,350.1716003417969,353.8738098144531,357.8440246582031,360.494140625,358.0027770996094,366.9159240722656,363.9481506347656,367.5114440917969,367.66064453125,374.1253356933594,367.8396301269531,375.3883972167969,371.04217529296875,375.7961730957031,375.37841796875,376.552001953125,380.61981201171875,376.7907409667969,376.8503723144531,372.4743347167969,367.1335144042969,370.4951171875,366.7953186035156,368.9336853027344,372.19586181640625,369.2817687988281,372.34503173828125,372.3350524902344,363.9409484863281,368.7148742675781,370.6243896484375,371.2311096191406,368.60546875,371.50958251953125,372.5439453125,372.6235046386719,372.0367126464844,373.2401123046875,373.9960021972656,368.8540954589844,368.5855712890625,365.94000244140625,365.75103759765625,372.6533508300781,373.7473449707031,380.6894226074219,382.539306640625,386.3584289550781,388.1486511230469,387.35302734375,391.72906494140625,396.50299072265625,394.354736328125,396.7317199707031,400.371826171875,402.6692810058594,401.7344055175781,407.492919921875,406.36907958984375,395.4189147949219,401.5852355957031,408.9847412109375,403.445068359375,403.285888671875,411.7994079589844,411.8590393066406,418.2640380859375,413.0028076171875,404.11138916015625,408.01727294921875,405.09783935546875,402.6068420410156,401.3414001464844,400.73358154296875,410.1695251464844,408.8642272949219,406.0743103027344,406.0145568847656,406.2536926269531,412.15240478515625,414.00567626953125,413.42779541015625,401.201904296875,400.6439208984375,407.6685791015625,404.7590637207031,403.0651550292969,413.7864685058594,413.6071472167969,423.69073486328125,414.9223937988281,415.81915283203125,419.8944396972656,423.7007141113281,427.8258056640625,427.1980895996094,421.3392028808594,420.1335754394531,419.91436767578125,419.2069091796875,423.0430603027344,419.9243469238281,418.9378967285156,416.37713623046875,423.9896240234375,423.06298828125,424.7469482421875,421.73779296875,426.3909606933594,420.3826904296875,412.15240478515625,413.0889892578125,410.3588562011719,402.8160705566406,397.6846008300781,399.5179748535156,406.1042175292969,407.5888671875,397.60491943359375,404.85870361328125,400.8033447265625,387.9298095703125,393.5196228027344,396.4091796875,405.1974792480469,412.0527648925781,407.8678283691406,409.0635681152344,410.837158203125,413.2484130859375,412.2320861816406,415.0618896484375,422.31878662109375,420.2325744628906,419.4539489746094,424.5747375488281,428.2680969238281,429.74542236328125,426.23175048828125,429.3860778808594,429.5457763671875,428.3978576660156,413.9239501953125,414.38311767578125,412.7760009765625,415.3214416503906,423.24713134765625,423.7561950683594,423.0874328613281,427.1001892089844,431.9015197753906,440.2664489746094,440.7855224609375,441.77374267578125,447.56329345703125,445.5369567871094,444.89813232421875,448.97076416015625,446.8645935058594,450.138671875,451.34649658203125,452.0352478027344,446.1458740234375,455.90826416015625,458.45367431640625,459.94097900390625,466.7187805175781,465.4011535644531,458.7132263183594,465.4111328125,453.8819274902344,452.7339782714844,453.14324951171875,448.71124267578125,442.7220153808594,439.57769775390625,436.32354736328125,442.14306640625,444.0496520996094,428.1283264160156,417.647216796875,424.5048522949219,425.9622497558594,422.15911865234375,417.5973205566406,416.3595275878906,407.7550354003906,394.4390563964844,398.8910217285156,397.7131652832031,401.9654846191406,405.28948974609375,406.07806396484375,413.26513671875,416.1099853515625,421.0299987792969,418.4700012207031,421.5299987792969,424.79998779296875,424.1400146484375,415.54998779296875,416.7900085449219,413.489990234375,413.8399963378906,410.6000061035156,413.1199951171875,417.1400146484375,409.44000244140625,408.8999938964844,408.3900146484375,401.70001220703125,405.7200012207031,414.20001220703125,423.0400085449219,427.0,430.5899963378906,431.3399963378906,435.1499938964844,430.80999755859375,438.69000244140625,435.2699890136719,433.510009765625,429.1700134277344,432.1099853515625,431.30999755859375,428.0199890136719,430.29998779296875,420.69000244140625,417.1300048828125,416.5400085449219,416.05999755859375,409.5400085449219,414.7099914550781,417.4599914550781,415.8399963378906,416.32000732421875,419.1400146484375,418.739990234375,416.1199951171875,416.7200012207031,418.1600036621094,418.7799987792969,427.510009765625,424.6000061035156,424.7300109863281,428.1499938964844,426.5899963378906,431.95001220703125,432.5299987792969,406.3500061035156,410.3699951171875,408.4599914550781,411.4599914550781,420.17999267578125,425.42999267578125,422.5400085449219,418.010009765625,423.0299987792969,425.20001220703125,426.8900146484375,415.0,415.8399963378906],\"yaxis\":\"y\",\"type\":\"scattergl\"}],                        {\"template\":{\"data\":{\"histogram2dcontour\":[{\"type\":\"histogram2dcontour\",\"colorbar\":{\"outlinewidth\":0,\"ticks\":\"\"},\"colorscale\":[[0.0,\"#0d0887\"],[0.1111111111111111,\"#46039f\"],[0.2222222222222222,\"#7201a8\"],[0.3333333333333333,\"#9c179e\"],[0.4444444444444444,\"#bd3786\"],[0.5555555555555556,\"#d8576b\"],[0.6666666666666666,\"#ed7953\"],[0.7777777777777778,\"#fb9f3a\"],[0.8888888888888888,\"#fdca26\"],[1.0,\"#f0f921\"]]}],\"choropleth\":[{\"type\":\"choropleth\",\"colorbar\":{\"outlinewidth\":0,\"ticks\":\"\"}}],\"histogram2d\":[{\"type\":\"histogram2d\",\"colorbar\":{\"outlinewidth\":0,\"ticks\":\"\"},\"colorscale\":[[0.0,\"#0d0887\"],[0.1111111111111111,\"#46039f\"],[0.2222222222222222,\"#7201a8\"],[0.3333333333333333,\"#9c179e\"],[0.4444444444444444,\"#bd3786\"],[0.5555555555555556,\"#d8576b\"],[0.6666666666666666,\"#ed7953\"],[0.7777777777777778,\"#fb9f3a\"],[0.8888888888888888,\"#fdca26\"],[1.0,\"#f0f921\"]]}],\"heatmap\":[{\"type\":\"heatmap\",\"colorbar\":{\"outlinewidth\":0,\"ticks\":\"\"},\"colorscale\":[[0.0,\"#0d0887\"],[0.1111111111111111,\"#46039f\"],[0.2222222222222222,\"#7201a8\"],[0.3333333333333333,\"#9c179e\"],[0.4444444444444444,\"#bd3786\"],[0.5555555555555556,\"#d8576b\"],[0.6666666666666666,\"#ed7953\"],[0.7777777777777778,\"#fb9f3a\"],[0.8888888888888888,\"#fdca26\"],[1.0,\"#f0f921\"]]}],\"heatmapgl\":[{\"type\":\"heatmapgl\",\"colorbar\":{\"outlinewidth\":0,\"ticks\":\"\"},\"colorscale\":[[0.0,\"#0d0887\"],[0.1111111111111111,\"#46039f\"],[0.2222222222222222,\"#7201a8\"],[0.3333333333333333,\"#9c179e\"],[0.4444444444444444,\"#bd3786\"],[0.5555555555555556,\"#d8576b\"],[0.6666666666666666,\"#ed7953\"],[0.7777777777777778,\"#fb9f3a\"],[0.8888888888888888,\"#fdca26\"],[1.0,\"#f0f921\"]]}],\"contourcarpet\":[{\"type\":\"contourcarpet\",\"colorbar\":{\"outlinewidth\":0,\"ticks\":\"\"}}],\"contour\":[{\"type\":\"contour\",\"colorbar\":{\"outlinewidth\":0,\"ticks\":\"\"},\"colorscale\":[[0.0,\"#0d0887\"],[0.1111111111111111,\"#46039f\"],[0.2222222222222222,\"#7201a8\"],[0.3333333333333333,\"#9c179e\"],[0.4444444444444444,\"#bd3786\"],[0.5555555555555556,\"#d8576b\"],[0.6666666666666666,\"#ed7953\"],[0.7777777777777778,\"#fb9f3a\"],[0.8888888888888888,\"#fdca26\"],[1.0,\"#f0f921\"]]}],\"surface\":[{\"type\":\"surface\",\"colorbar\":{\"outlinewidth\":0,\"ticks\":\"\"},\"colorscale\":[[0.0,\"#0d0887\"],[0.1111111111111111,\"#46039f\"],[0.2222222222222222,\"#7201a8\"],[0.3333333333333333,\"#9c179e\"],[0.4444444444444444,\"#bd3786\"],[0.5555555555555556,\"#d8576b\"],[0.6666666666666666,\"#ed7953\"],[0.7777777777777778,\"#fb9f3a\"],[0.8888888888888888,\"#fdca26\"],[1.0,\"#f0f921\"]]}],\"mesh3d\":[{\"type\":\"mesh3d\",\"colorbar\":{\"outlinewidth\":0,\"ticks\":\"\"}}],\"scatter\":[{\"fillpattern\":{\"fillmode\":\"overlay\",\"size\":10,\"solidity\":0.2},\"type\":\"scatter\"}],\"parcoords\":[{\"type\":\"parcoords\",\"line\":{\"colorbar\":{\"outlinewidth\":0,\"ticks\":\"\"}}}],\"scatterpolargl\":[{\"type\":\"scatterpolargl\",\"marker\":{\"colorbar\":{\"outlinewidth\":0,\"ticks\":\"\"}}}],\"bar\":[{\"error_x\":{\"color\":\"#2a3f5f\"},\"error_y\":{\"color\":\"#2a3f5f\"},\"marker\":{\"line\":{\"color\":\"#E5ECF6\",\"width\":0.5},\"pattern\":{\"fillmode\":\"overlay\",\"size\":10,\"solidity\":0.2}},\"type\":\"bar\"}],\"scattergeo\":[{\"type\":\"scattergeo\",\"marker\":{\"colorbar\":{\"outlinewidth\":0,\"ticks\":\"\"}}}],\"scatterpolar\":[{\"type\":\"scatterpolar\",\"marker\":{\"colorbar\":{\"outlinewidth\":0,\"ticks\":\"\"}}}],\"histogram\":[{\"marker\":{\"pattern\":{\"fillmode\":\"overlay\",\"size\":10,\"solidity\":0.2}},\"type\":\"histogram\"}],\"scattergl\":[{\"type\":\"scattergl\",\"marker\":{\"colorbar\":{\"outlinewidth\":0,\"ticks\":\"\"}}}],\"scatter3d\":[{\"type\":\"scatter3d\",\"line\":{\"colorbar\":{\"outlinewidth\":0,\"ticks\":\"\"}},\"marker\":{\"colorbar\":{\"outlinewidth\":0,\"ticks\":\"\"}}}],\"scattermapbox\":[{\"type\":\"scattermapbox\",\"marker\":{\"colorbar\":{\"outlinewidth\":0,\"ticks\":\"\"}}}],\"scatterternary\":[{\"type\":\"scatterternary\",\"marker\":{\"colorbar\":{\"outlinewidth\":0,\"ticks\":\"\"}}}],\"scattercarpet\":[{\"type\":\"scattercarpet\",\"marker\":{\"colorbar\":{\"outlinewidth\":0,\"ticks\":\"\"}}}],\"carpet\":[{\"aaxis\":{\"endlinecolor\":\"#2a3f5f\",\"gridcolor\":\"white\",\"linecolor\":\"white\",\"minorgridcolor\":\"white\",\"startlinecolor\":\"#2a3f5f\"},\"baxis\":{\"endlinecolor\":\"#2a3f5f\",\"gridcolor\":\"white\",\"linecolor\":\"white\",\"minorgridcolor\":\"white\",\"startlinecolor\":\"#2a3f5f\"},\"type\":\"carpet\"}],\"table\":[{\"cells\":{\"fill\":{\"color\":\"#EBF0F8\"},\"line\":{\"color\":\"white\"}},\"header\":{\"fill\":{\"color\":\"#C8D4E3\"},\"line\":{\"color\":\"white\"}},\"type\":\"table\"}],\"barpolar\":[{\"marker\":{\"line\":{\"color\":\"#E5ECF6\",\"width\":0.5},\"pattern\":{\"fillmode\":\"overlay\",\"size\":10,\"solidity\":0.2}},\"type\":\"barpolar\"}],\"pie\":[{\"automargin\":true,\"type\":\"pie\"}]},\"layout\":{\"autotypenumbers\":\"strict\",\"colorway\":[\"#636efa\",\"#EF553B\",\"#00cc96\",\"#ab63fa\",\"#FFA15A\",\"#19d3f3\",\"#FF6692\",\"#B6E880\",\"#FF97FF\",\"#FECB52\"],\"font\":{\"color\":\"#2a3f5f\"},\"hovermode\":\"closest\",\"hoverlabel\":{\"align\":\"left\"},\"paper_bgcolor\":\"white\",\"plot_bgcolor\":\"#E5ECF6\",\"polar\":{\"bgcolor\":\"#E5ECF6\",\"angularaxis\":{\"gridcolor\":\"white\",\"linecolor\":\"white\",\"ticks\":\"\"},\"radialaxis\":{\"gridcolor\":\"white\",\"linecolor\":\"white\",\"ticks\":\"\"}},\"ternary\":{\"bgcolor\":\"#E5ECF6\",\"aaxis\":{\"gridcolor\":\"white\",\"linecolor\":\"white\",\"ticks\":\"\"},\"baxis\":{\"gridcolor\":\"white\",\"linecolor\":\"white\",\"ticks\":\"\"},\"caxis\":{\"gridcolor\":\"white\",\"linecolor\":\"white\",\"ticks\":\"\"}},\"coloraxis\":{\"colorbar\":{\"outlinewidth\":0,\"ticks\":\"\"}},\"colorscale\":{\"sequential\":[[0.0,\"#0d0887\"],[0.1111111111111111,\"#46039f\"],[0.2222222222222222,\"#7201a8\"],[0.3333333333333333,\"#9c179e\"],[0.4444444444444444,\"#bd3786\"],[0.5555555555555556,\"#d8576b\"],[0.6666666666666666,\"#ed7953\"],[0.7777777777777778,\"#fb9f3a\"],[0.8888888888888888,\"#fdca26\"],[1.0,\"#f0f921\"]],\"sequentialminus\":[[0.0,\"#0d0887\"],[0.1111111111111111,\"#46039f\"],[0.2222222222222222,\"#7201a8\"],[0.3333333333333333,\"#9c179e\"],[0.4444444444444444,\"#bd3786\"],[0.5555555555555556,\"#d8576b\"],[0.6666666666666666,\"#ed7953\"],[0.7777777777777778,\"#fb9f3a\"],[0.8888888888888888,\"#fdca26\"],[1.0,\"#f0f921\"]],\"diverging\":[[0,\"#8e0152\"],[0.1,\"#c51b7d\"],[0.2,\"#de77ae\"],[0.3,\"#f1b6da\"],[0.4,\"#fde0ef\"],[0.5,\"#f7f7f7\"],[0.6,\"#e6f5d0\"],[0.7,\"#b8e186\"],[0.8,\"#7fbc41\"],[0.9,\"#4d9221\"],[1,\"#276419\"]]},\"xaxis\":{\"gridcolor\":\"white\",\"linecolor\":\"white\",\"ticks\":\"\",\"title\":{\"standoff\":15},\"zerolinecolor\":\"white\",\"automargin\":true,\"zerolinewidth\":2},\"yaxis\":{\"gridcolor\":\"white\",\"linecolor\":\"white\",\"ticks\":\"\",\"title\":{\"standoff\":15},\"zerolinecolor\":\"white\",\"automargin\":true,\"zerolinewidth\":2},\"scene\":{\"xaxis\":{\"backgroundcolor\":\"#E5ECF6\",\"gridcolor\":\"white\",\"linecolor\":\"white\",\"showbackground\":true,\"ticks\":\"\",\"zerolinecolor\":\"white\",\"gridwidth\":2},\"yaxis\":{\"backgroundcolor\":\"#E5ECF6\",\"gridcolor\":\"white\",\"linecolor\":\"white\",\"showbackground\":true,\"ticks\":\"\",\"zerolinecolor\":\"white\",\"gridwidth\":2},\"zaxis\":{\"backgroundcolor\":\"#E5ECF6\",\"gridcolor\":\"white\",\"linecolor\":\"white\",\"showbackground\":true,\"ticks\":\"\",\"zerolinecolor\":\"white\",\"gridwidth\":2}},\"shapedefaults\":{\"line\":{\"color\":\"#2a3f5f\"}},\"annotationdefaults\":{\"arrowcolor\":\"#2a3f5f\",\"arrowhead\":0,\"arrowwidth\":1},\"geo\":{\"bgcolor\":\"white\",\"landcolor\":\"#E5ECF6\",\"subunitcolor\":\"white\",\"showland\":true,\"showlakes\":true,\"lakecolor\":\"white\"},\"title\":{\"x\":0.05},\"mapbox\":{\"style\":\"light\"}}},\"xaxis\":{\"anchor\":\"y\",\"domain\":[0.0,1.0],\"title\":{\"text\":\"Data\"}},\"yaxis\":{\"anchor\":\"x\",\"domain\":[0.0,1.0],\"title\":{\"text\":\"Preço de Fechamento\"}},\"legend\":{\"tracegroupgap\":0},\"title\":{\"text\":\"Preço do MSFT ao longo do tempo\"}},                        {\"responsive\": true}                    ).then(function(){\n",
              "                            \n",
              "var gd = document.getElementById('7ffb00f0-8852-4f98-a11c-97c8db6b5f96');\n",
              "var x = new MutationObserver(function (mutations, observer) {{\n",
              "        var display = window.getComputedStyle(gd).display;\n",
              "        if (!display || display === 'none') {{\n",
              "            console.log([gd, 'removed!']);\n",
              "            Plotly.purge(gd);\n",
              "            observer.disconnect();\n",
              "        }}\n",
              "}});\n",
              "\n",
              "// Listen for the removal of the full notebook cells\n",
              "var notebookContainer = gd.closest('#notebook-container');\n",
              "if (notebookContainer) {{\n",
              "    x.observe(notebookContainer, {childList: true});\n",
              "}}\n",
              "\n",
              "// Listen for the clearing of the current output cell\n",
              "var outputEl = gd.closest('.output');\n",
              "if (outputEl) {{\n",
              "    x.observe(outputEl, {childList: true});\n",
              "}}\n",
              "\n",
              "                        })                };                            </script>        </div>\n",
              "</body>\n",
              "</html>"
            ]
          },
          "metadata": {}
        }
      ]
    },
    {
      "cell_type": "markdown",
      "source": [
        "Conclusão\n",
        "\n",
        "Com essa solução:\n",
        "\n",
        "Monitoramos ativos em tempo real.\n",
        "Prevemos rentabilidade futura para ajudar na tomada de decisões.\n",
        "Fornecemos insights baseados em métricas financeiras."
      ],
      "metadata": {
        "id": "zo0dpvYmgMcj"
      }
    },
    {
      "cell_type": "markdown",
      "source": [
        "Próximos Passos Detalhados\n",
        "\n",
        "Adicionar Suporte a Diferentes Classes de Ativos\n",
        "\n",
        "Objetivo: Diversificar os tipos de investimentos analisados para atender diferentes perfis de investidores, como ações, criptomoedas, fundos imobiliários (REITs), ETFs, etc.\n",
        "\n",
        "Implementação:\n",
        "\n",
        "Utilizar APIs como CoinGecko ou Binance API para dados de criptomoedas.\n",
        "Usar a Alpha Vantage API para obter informações sobre ETFs e REITs.\n",
        "Expandir a função obter_dados_ativo() para lidar com múltiplas APIs, dependendo do tipo de ativo selecionado."
      ],
      "metadata": {
        "id": "52HSjw7Ugk4j"
      }
    },
    {
      "cell_type": "code",
      "source": [
        "import requests\n",
        "\n",
        "def obter_dados_cripto(crypto_id, dias=365):\n",
        "    url = f\"https://api.coingecko.com/api/v3/coins/{crypto_id}/market_chart\"\n",
        "    params = {'vs_currency': 'usd', 'days': dias}\n",
        "    response = requests.get(url, params=params)\n",
        "    data = response.json()\n",
        "    df = pd.DataFrame(data['prices'], columns=['Date', 'Close'])\n",
        "    df['Date'] = pd.to_datetime(df['Date'], unit='ms')\n",
        "    return df\n",
        "\n",
        "# Exemplo de uso\n",
        "df_crypto = obter_dados_cripto('bitcoin')\n",
        "print(df_crypto.head())"
      ],
      "metadata": {
        "colab": {
          "base_uri": "https://localhost:8080/"
        },
        "id": "fNxI3syVgqXo",
        "outputId": "b466f089-105c-4ed1-bfe4-71d153ead39a"
      },
      "execution_count": 22,
      "outputs": [
        {
          "output_type": "stream",
          "name": "stdout",
          "text": [
            "        Date         Close\n",
            "0 2023-11-20  37413.994608\n",
            "1 2023-11-21  37489.298471\n",
            "2 2023-11-22  35965.360361\n",
            "3 2023-11-23  37464.832932\n",
            "4 2023-11-24  37293.316127\n"
          ]
        }
      ]
    },
    {
      "cell_type": "markdown",
      "source": [
        "Análise de Sentimento com Base em Notícias\n",
        "\n",
        "Objetivo: Prever movimentos de mercado utilizando o sentimento de notícias financeiras e postagens em redes sociais.\n",
        "\n",
        "Implementação:\n",
        "\n",
        "Utilizar APIs como NewsAPI, Twitter API ou Finviz para coletar notícias e tweets relacionados a investimentos.\n",
        "\n",
        "Utilizar técnicas de Processamento de Linguagem Natural (NLP), como VADER, TextBlob ou Hugging Face Transformers, para realizar análise de sentimento.\n",
        "\n",
        "Integrar a análise de sentimento aos modelos preditivos para ajustar previsões com base nas tendências atuais."
      ],
      "metadata": {
        "id": "G2yaA-4KgwLN"
      }
    },
    {
      "cell_type": "code",
      "source": [
        "from textblob import TextBlob\n",
        "import requests\n",
        "\n",
        "def obter_sentimento_noticias(query):\n",
        "    url = f\"https://newsapi.org/v2/everything?q={query}&apiKey=YOUR_API_KEY\"\n",
        "    response = requests.get(url)\n",
        "    noticias = response.json()['articles']\n",
        "    sentimentos = []\n",
        "    for noticia in noticias:\n",
        "        analise = TextBlob(noticia['title'])\n",
        "        sentimentos.append(analise.sentiment.polarity)\n",
        "    return np.mean(sentimentos)\n",
        "\n",
        "# Exemplo de uso\n",
        "sentimento_apple = obter_sentimento_noticias(\"Apple\")\n",
        "print(f\"Sentimento para Apple: {sentimento_apple}\")\n"
      ],
      "metadata": {
        "colab": {
          "base_uri": "https://localhost:8080/",
          "height": 315
        },
        "id": "r6jwr1JLg6E0",
        "outputId": "adcddace-dea1-4e80-add9-044aeab4ea47"
      },
      "execution_count": 21,
      "outputs": [
        {
          "output_type": "error",
          "ename": "KeyError",
          "evalue": "'articles'",
          "traceback": [
            "\u001b[0;31m---------------------------------------------------------------------------\u001b[0m",
            "\u001b[0;31mKeyError\u001b[0m                                  Traceback (most recent call last)",
            "\u001b[0;32m<ipython-input-21-523b09830a51>\u001b[0m in \u001b[0;36m<cell line: 15>\u001b[0;34m()\u001b[0m\n\u001b[1;32m     13\u001b[0m \u001b[0;34m\u001b[0m\u001b[0m\n\u001b[1;32m     14\u001b[0m \u001b[0;31m# Exemplo de uso\u001b[0m\u001b[0;34m\u001b[0m\u001b[0;34m\u001b[0m\u001b[0m\n\u001b[0;32m---> 15\u001b[0;31m \u001b[0msentimento_apple\u001b[0m \u001b[0;34m=\u001b[0m \u001b[0mobter_sentimento_noticias\u001b[0m\u001b[0;34m(\u001b[0m\u001b[0;34m\"Apple\"\u001b[0m\u001b[0;34m)\u001b[0m\u001b[0;34m\u001b[0m\u001b[0;34m\u001b[0m\u001b[0m\n\u001b[0m\u001b[1;32m     16\u001b[0m \u001b[0mprint\u001b[0m\u001b[0;34m(\u001b[0m\u001b[0;34mf\"Sentimento para Apple: {sentimento_apple}\"\u001b[0m\u001b[0;34m)\u001b[0m\u001b[0;34m\u001b[0m\u001b[0;34m\u001b[0m\u001b[0m\n",
            "\u001b[0;32m<ipython-input-21-523b09830a51>\u001b[0m in \u001b[0;36mobter_sentimento_noticias\u001b[0;34m(query)\u001b[0m\n\u001b[1;32m      5\u001b[0m     \u001b[0murl\u001b[0m \u001b[0;34m=\u001b[0m \u001b[0;34mf\"https://newsapi.org/v2/everything?q={query}&apiKey=YOUR_API_KEY\"\u001b[0m\u001b[0;34m\u001b[0m\u001b[0;34m\u001b[0m\u001b[0m\n\u001b[1;32m      6\u001b[0m     \u001b[0mresponse\u001b[0m \u001b[0;34m=\u001b[0m \u001b[0mrequests\u001b[0m\u001b[0;34m.\u001b[0m\u001b[0mget\u001b[0m\u001b[0;34m(\u001b[0m\u001b[0murl\u001b[0m\u001b[0;34m)\u001b[0m\u001b[0;34m\u001b[0m\u001b[0;34m\u001b[0m\u001b[0m\n\u001b[0;32m----> 7\u001b[0;31m     \u001b[0mnoticias\u001b[0m \u001b[0;34m=\u001b[0m \u001b[0mresponse\u001b[0m\u001b[0;34m.\u001b[0m\u001b[0mjson\u001b[0m\u001b[0;34m(\u001b[0m\u001b[0;34m)\u001b[0m\u001b[0;34m[\u001b[0m\u001b[0;34m'articles'\u001b[0m\u001b[0;34m]\u001b[0m\u001b[0;34m\u001b[0m\u001b[0;34m\u001b[0m\u001b[0m\n\u001b[0m\u001b[1;32m      8\u001b[0m     \u001b[0msentimentos\u001b[0m \u001b[0;34m=\u001b[0m \u001b[0;34m[\u001b[0m\u001b[0;34m]\u001b[0m\u001b[0;34m\u001b[0m\u001b[0;34m\u001b[0m\u001b[0m\n\u001b[1;32m      9\u001b[0m     \u001b[0;32mfor\u001b[0m \u001b[0mnoticia\u001b[0m \u001b[0;32min\u001b[0m \u001b[0mnoticias\u001b[0m\u001b[0;34m:\u001b[0m\u001b[0;34m\u001b[0m\u001b[0;34m\u001b[0m\u001b[0m\n",
            "\u001b[0;31mKeyError\u001b[0m: 'articles'"
          ]
        }
      ]
    },
    {
      "cell_type": "markdown",
      "source": [
        "Sistema de Alertas com Base em KPIs\n",
        "\n",
        "Objetivo: Notificar o usuário quando certos KPIs, como rentabilidade, volatilidade ou drawdown, atingirem um limite pré-determinado.\n",
        "\n",
        "Implementação:\n",
        "Utilizar a biblioteca smtplib para enviar alertas por email.\n",
        "Usar Pushbullet API ou Twilio para enviar notificações em tempo real no celular.\n",
        "Permitir que o usuário defina os KPIs e limites personalizados no dashboard."
      ],
      "metadata": {
        "id": "_Lv1jlCHhCvf"
      }
    },
    {
      "cell_type": "code",
      "source": [
        "import smtplib\n",
        "from email.message import EmailMessage\n",
        "\n",
        "def enviar_alerta_email(email_destino, assunto, mensagem):\n",
        "    msg = EmailMessage()\n",
        "    msg['Subject'] = assunto\n",
        "    msg['From'] = 'seu_email@gmail.com'\n",
        "    msg['To'] = email_destino\n",
        "    msg.set_content(mensagem)\n",
        "\n",
        "    with smtplib.SMTP_SSL('smtp.gmail.com', 465) as smtp:\n",
        "        smtp.login('seu_email@gmail.com', 'sua senha')\n",
        "        smtp.send_message(msg)\n",
        "\n",
        "# Exemplo de uso\n",
        "enviar_alerta_email('usuario@example.com', 'Alerta de Investimento',\n",
        "                    'O ativo AAPL atingiu o limite de volatilidade!')\n"
      ],
      "metadata": {
        "colab": {
          "base_uri": "https://localhost:8080/",
          "height": 356
        },
        "id": "agRWaoYghIjl",
        "outputId": "dc0d50a5-894a-4159-d014-36a29cd13e47"
      },
      "execution_count": 20,
      "outputs": [
        {
          "output_type": "error",
          "ename": "SMTPAuthenticationError",
          "evalue": "(534, b'5.7.9 Application-specific password required. For more information, go to\\n5.7.9  https://support.google.com/mail/?p=InvalidSecondFactor a1e0cc1a2514c-856dfba28b6sm1205842241.2 - gsmtp')",
          "traceback": [
            "\u001b[0;31m---------------------------------------------------------------------------\u001b[0m",
            "\u001b[0;31mSMTPAuthenticationError\u001b[0m                   Traceback (most recent call last)",
            "\u001b[0;32m<ipython-input-20-cefca4cbc21c>\u001b[0m in \u001b[0;36m<cell line: 16>\u001b[0;34m()\u001b[0m\n\u001b[1;32m     14\u001b[0m \u001b[0;34m\u001b[0m\u001b[0m\n\u001b[1;32m     15\u001b[0m \u001b[0;31m# Exemplo de uso\u001b[0m\u001b[0;34m\u001b[0m\u001b[0;34m\u001b[0m\u001b[0m\n\u001b[0;32m---> 16\u001b[0;31m enviar_alerta_email('usuario@example.com', 'Alerta de Investimento', \n\u001b[0m\u001b[1;32m     17\u001b[0m                     'O ativo AAPL atingiu o limite de volatilidade!')\n",
            "\u001b[0;32m<ipython-input-20-cefca4cbc21c>\u001b[0m in \u001b[0;36menviar_alerta_email\u001b[0;34m(email_destino, assunto, mensagem)\u001b[0m\n\u001b[1;32m     10\u001b[0m \u001b[0;34m\u001b[0m\u001b[0m\n\u001b[1;32m     11\u001b[0m     \u001b[0;32mwith\u001b[0m \u001b[0msmtplib\u001b[0m\u001b[0;34m.\u001b[0m\u001b[0mSMTP_SSL\u001b[0m\u001b[0;34m(\u001b[0m\u001b[0;34m'smtp.gmail.com'\u001b[0m\u001b[0;34m,\u001b[0m \u001b[0;36m465\u001b[0m\u001b[0;34m)\u001b[0m \u001b[0;32mas\u001b[0m \u001b[0msmtp\u001b[0m\u001b[0;34m:\u001b[0m\u001b[0;34m\u001b[0m\u001b[0;34m\u001b[0m\u001b[0m\n\u001b[0;32m---> 12\u001b[0;31m         \u001b[0msmtp\u001b[0m\u001b[0;34m.\u001b[0m\u001b[0mlogin\u001b[0m\u001b[0;34m(\u001b[0m\u001b[0;34m'cassio930@gmail.com'\u001b[0m\u001b[0;34m,\u001b[0m \u001b[0;34m'Diadema098'\u001b[0m\u001b[0;34m)\u001b[0m\u001b[0;34m\u001b[0m\u001b[0;34m\u001b[0m\u001b[0m\n\u001b[0m\u001b[1;32m     13\u001b[0m         \u001b[0msmtp\u001b[0m\u001b[0;34m.\u001b[0m\u001b[0msend_message\u001b[0m\u001b[0;34m(\u001b[0m\u001b[0mmsg\u001b[0m\u001b[0;34m)\u001b[0m\u001b[0;34m\u001b[0m\u001b[0;34m\u001b[0m\u001b[0m\n\u001b[1;32m     14\u001b[0m \u001b[0;34m\u001b[0m\u001b[0m\n",
            "\u001b[0;32m/usr/lib/python3.10/smtplib.py\u001b[0m in \u001b[0;36mlogin\u001b[0;34m(self, user, password, initial_response_ok)\u001b[0m\n\u001b[1;32m    748\u001b[0m \u001b[0;34m\u001b[0m\u001b[0m\n\u001b[1;32m    749\u001b[0m         \u001b[0;31m# We could not login successfully.  Return result of last attempt.\u001b[0m\u001b[0;34m\u001b[0m\u001b[0;34m\u001b[0m\u001b[0m\n\u001b[0;32m--> 750\u001b[0;31m         \u001b[0;32mraise\u001b[0m \u001b[0mlast_exception\u001b[0m\u001b[0;34m\u001b[0m\u001b[0;34m\u001b[0m\u001b[0m\n\u001b[0m\u001b[1;32m    751\u001b[0m \u001b[0;34m\u001b[0m\u001b[0m\n\u001b[1;32m    752\u001b[0m     \u001b[0;32mdef\u001b[0m \u001b[0mstarttls\u001b[0m\u001b[0;34m(\u001b[0m\u001b[0mself\u001b[0m\u001b[0;34m,\u001b[0m \u001b[0mkeyfile\u001b[0m\u001b[0;34m=\u001b[0m\u001b[0;32mNone\u001b[0m\u001b[0;34m,\u001b[0m \u001b[0mcertfile\u001b[0m\u001b[0;34m=\u001b[0m\u001b[0;32mNone\u001b[0m\u001b[0;34m,\u001b[0m \u001b[0mcontext\u001b[0m\u001b[0;34m=\u001b[0m\u001b[0;32mNone\u001b[0m\u001b[0;34m)\u001b[0m\u001b[0;34m:\u001b[0m\u001b[0;34m\u001b[0m\u001b[0;34m\u001b[0m\u001b[0m\n",
            "\u001b[0;32m/usr/lib/python3.10/smtplib.py\u001b[0m in \u001b[0;36mlogin\u001b[0;34m(self, user, password, initial_response_ok)\u001b[0m\n\u001b[1;32m    737\u001b[0m             \u001b[0mmethod_name\u001b[0m \u001b[0;34m=\u001b[0m \u001b[0;34m'auth_'\u001b[0m \u001b[0;34m+\u001b[0m \u001b[0mauthmethod\u001b[0m\u001b[0;34m.\u001b[0m\u001b[0mlower\u001b[0m\u001b[0;34m(\u001b[0m\u001b[0;34m)\u001b[0m\u001b[0;34m.\u001b[0m\u001b[0mreplace\u001b[0m\u001b[0;34m(\u001b[0m\u001b[0;34m'-'\u001b[0m\u001b[0;34m,\u001b[0m \u001b[0;34m'_'\u001b[0m\u001b[0;34m)\u001b[0m\u001b[0;34m\u001b[0m\u001b[0;34m\u001b[0m\u001b[0m\n\u001b[1;32m    738\u001b[0m             \u001b[0;32mtry\u001b[0m\u001b[0;34m:\u001b[0m\u001b[0;34m\u001b[0m\u001b[0;34m\u001b[0m\u001b[0m\n\u001b[0;32m--> 739\u001b[0;31m                 (code, resp) = self.auth(\n\u001b[0m\u001b[1;32m    740\u001b[0m                     \u001b[0mauthmethod\u001b[0m\u001b[0;34m,\u001b[0m \u001b[0mgetattr\u001b[0m\u001b[0;34m(\u001b[0m\u001b[0mself\u001b[0m\u001b[0;34m,\u001b[0m \u001b[0mmethod_name\u001b[0m\u001b[0;34m)\u001b[0m\u001b[0;34m,\u001b[0m\u001b[0;34m\u001b[0m\u001b[0;34m\u001b[0m\u001b[0m\n\u001b[1;32m    741\u001b[0m                     initial_response_ok=initial_response_ok)\n",
            "\u001b[0;32m/usr/lib/python3.10/smtplib.py\u001b[0m in \u001b[0;36mauth\u001b[0;34m(self, mechanism, authobject, initial_response_ok)\u001b[0m\n\u001b[1;32m    660\u001b[0m         \u001b[0;32mif\u001b[0m \u001b[0mcode\u001b[0m \u001b[0;32min\u001b[0m \u001b[0;34m(\u001b[0m\u001b[0;36m235\u001b[0m\u001b[0;34m,\u001b[0m \u001b[0;36m503\u001b[0m\u001b[0;34m)\u001b[0m\u001b[0;34m:\u001b[0m\u001b[0;34m\u001b[0m\u001b[0;34m\u001b[0m\u001b[0m\n\u001b[1;32m    661\u001b[0m             \u001b[0;32mreturn\u001b[0m \u001b[0;34m(\u001b[0m\u001b[0mcode\u001b[0m\u001b[0;34m,\u001b[0m \u001b[0mresp\u001b[0m\u001b[0;34m)\u001b[0m\u001b[0;34m\u001b[0m\u001b[0;34m\u001b[0m\u001b[0m\n\u001b[0;32m--> 662\u001b[0;31m         \u001b[0;32mraise\u001b[0m \u001b[0mSMTPAuthenticationError\u001b[0m\u001b[0;34m(\u001b[0m\u001b[0mcode\u001b[0m\u001b[0;34m,\u001b[0m \u001b[0mresp\u001b[0m\u001b[0;34m)\u001b[0m\u001b[0;34m\u001b[0m\u001b[0;34m\u001b[0m\u001b[0m\n\u001b[0m\u001b[1;32m    663\u001b[0m \u001b[0;34m\u001b[0m\u001b[0m\n\u001b[1;32m    664\u001b[0m     \u001b[0;32mdef\u001b[0m \u001b[0mauth_cram_md5\u001b[0m\u001b[0;34m(\u001b[0m\u001b[0mself\u001b[0m\u001b[0;34m,\u001b[0m \u001b[0mchallenge\u001b[0m\u001b[0;34m=\u001b[0m\u001b[0;32mNone\u001b[0m\u001b[0;34m)\u001b[0m\u001b[0;34m:\u001b[0m\u001b[0;34m\u001b[0m\u001b[0;34m\u001b[0m\u001b[0m\n",
            "\u001b[0;31mSMTPAuthenticationError\u001b[0m: (534, b'5.7.9 Application-specific password required. For more information, go to\\n5.7.9  https://support.google.com/mail/?p=InvalidSecondFactor a1e0cc1a2514c-856dfba28b6sm1205842241.2 - gsmtp')"
          ]
        }
      ]
    },
    {
      "cell_type": "markdown",
      "source": [
        "Escalar para uma Aplicação Web com Streamlit ou Flask\n",
        "\n",
        "Objetivo: Facilitar o uso do sistema para usuários leigos, transformando o projeto em um dashboard interativo.\n",
        "\n",
        "Implementação:\n",
        "Usar Streamlit para criar um dashboard visual e interativo onde o usuário pode selecionar ativos, visualizar gráficos e receber insights.\n",
        "Alternativamente, usar Flask para criar uma aplicação web mais customizável.\n",
        "Integrar o sistema de alertas, visualizações e previsões dentro da interface da aplicação."
      ],
      "metadata": {
        "id": "6FYQkSq3hN9M"
      }
    },
    {
      "cell_type": "code",
      "source": [
        "!pip install streamlit"
      ],
      "metadata": {
        "colab": {
          "base_uri": "https://localhost:8080/"
        },
        "id": "uXGqhJV3hWvQ",
        "outputId": "2fe10c55-b6e9-4618-a2db-f2799be57bb6"
      },
      "execution_count": 15,
      "outputs": [
        {
          "output_type": "stream",
          "name": "stdout",
          "text": [
            "Collecting streamlit\n",
            "  Downloading streamlit-1.40.1-py2.py3-none-any.whl.metadata (8.5 kB)\n",
            "Requirement already satisfied: altair<6,>=4.0 in /usr/local/lib/python3.10/dist-packages (from streamlit) (4.2.2)\n",
            "Requirement already satisfied: blinker<2,>=1.0.0 in /usr/local/lib/python3.10/dist-packages (from streamlit) (1.9.0)\n",
            "Requirement already satisfied: cachetools<6,>=4.0 in /usr/local/lib/python3.10/dist-packages (from streamlit) (5.5.0)\n",
            "Requirement already satisfied: click<9,>=7.0 in /usr/local/lib/python3.10/dist-packages (from streamlit) (8.1.7)\n",
            "Requirement already satisfied: numpy<3,>=1.20 in /usr/local/lib/python3.10/dist-packages (from streamlit) (1.26.4)\n",
            "Requirement already satisfied: packaging<25,>=20 in /usr/local/lib/python3.10/dist-packages (from streamlit) (24.2)\n",
            "Requirement already satisfied: pandas<3,>=1.4.0 in /usr/local/lib/python3.10/dist-packages (from streamlit) (2.2.2)\n",
            "Requirement already satisfied: pillow<12,>=7.1.0 in /usr/local/lib/python3.10/dist-packages (from streamlit) (11.0.0)\n",
            "Requirement already satisfied: protobuf<6,>=3.20 in /usr/local/lib/python3.10/dist-packages (from streamlit) (4.25.5)\n",
            "Requirement already satisfied: pyarrow>=7.0 in /usr/local/lib/python3.10/dist-packages (from streamlit) (17.0.0)\n",
            "Requirement already satisfied: requests<3,>=2.27 in /usr/local/lib/python3.10/dist-packages (from streamlit) (2.32.3)\n",
            "Requirement already satisfied: rich<14,>=10.14.0 in /usr/local/lib/python3.10/dist-packages (from streamlit) (13.9.4)\n",
            "Requirement already satisfied: tenacity<10,>=8.1.0 in /usr/local/lib/python3.10/dist-packages (from streamlit) (9.0.0)\n",
            "Requirement already satisfied: toml<2,>=0.10.1 in /usr/local/lib/python3.10/dist-packages (from streamlit) (0.10.2)\n",
            "Requirement already satisfied: typing-extensions<5,>=4.3.0 in /usr/local/lib/python3.10/dist-packages (from streamlit) (4.12.2)\n",
            "Requirement already satisfied: gitpython!=3.1.19,<4,>=3.0.7 in /usr/local/lib/python3.10/dist-packages (from streamlit) (3.1.43)\n",
            "Collecting pydeck<1,>=0.8.0b4 (from streamlit)\n",
            "  Downloading pydeck-0.9.1-py2.py3-none-any.whl.metadata (4.1 kB)\n",
            "Requirement already satisfied: tornado<7,>=6.0.3 in /usr/local/lib/python3.10/dist-packages (from streamlit) (6.3.3)\n",
            "Collecting watchdog<7,>=2.1.5 (from streamlit)\n",
            "  Downloading watchdog-6.0.0-py3-none-manylinux2014_x86_64.whl.metadata (44 kB)\n",
            "\u001b[2K     \u001b[90m━━━━━━━━━━━━━━━━━━━━━━━━━━━━━━━━━━━━━━━━\u001b[0m \u001b[32m44.3/44.3 kB\u001b[0m \u001b[31m1.7 MB/s\u001b[0m eta \u001b[36m0:00:00\u001b[0m\n",
            "\u001b[?25hRequirement already satisfied: entrypoints in /usr/local/lib/python3.10/dist-packages (from altair<6,>=4.0->streamlit) (0.4)\n",
            "Requirement already satisfied: jinja2 in /usr/local/lib/python3.10/dist-packages (from altair<6,>=4.0->streamlit) (3.1.4)\n",
            "Requirement already satisfied: jsonschema>=3.0 in /usr/local/lib/python3.10/dist-packages (from altair<6,>=4.0->streamlit) (4.23.0)\n",
            "Requirement already satisfied: toolz in /usr/local/lib/python3.10/dist-packages (from altair<6,>=4.0->streamlit) (0.12.1)\n",
            "Requirement already satisfied: gitdb<5,>=4.0.1 in /usr/local/lib/python3.10/dist-packages (from gitpython!=3.1.19,<4,>=3.0.7->streamlit) (4.0.11)\n",
            "Requirement already satisfied: python-dateutil>=2.8.2 in /usr/local/lib/python3.10/dist-packages (from pandas<3,>=1.4.0->streamlit) (2.8.2)\n",
            "Requirement already satisfied: pytz>=2020.1 in /usr/local/lib/python3.10/dist-packages (from pandas<3,>=1.4.0->streamlit) (2024.2)\n",
            "Requirement already satisfied: tzdata>=2022.7 in /usr/local/lib/python3.10/dist-packages (from pandas<3,>=1.4.0->streamlit) (2024.2)\n",
            "Requirement already satisfied: charset-normalizer<4,>=2 in /usr/local/lib/python3.10/dist-packages (from requests<3,>=2.27->streamlit) (3.4.0)\n",
            "Requirement already satisfied: idna<4,>=2.5 in /usr/local/lib/python3.10/dist-packages (from requests<3,>=2.27->streamlit) (3.10)\n",
            "Requirement already satisfied: urllib3<3,>=1.21.1 in /usr/local/lib/python3.10/dist-packages (from requests<3,>=2.27->streamlit) (2.2.3)\n",
            "Requirement already satisfied: certifi>=2017.4.17 in /usr/local/lib/python3.10/dist-packages (from requests<3,>=2.27->streamlit) (2024.8.30)\n",
            "Requirement already satisfied: markdown-it-py>=2.2.0 in /usr/local/lib/python3.10/dist-packages (from rich<14,>=10.14.0->streamlit) (3.0.0)\n",
            "Requirement already satisfied: pygments<3.0.0,>=2.13.0 in /usr/local/lib/python3.10/dist-packages (from rich<14,>=10.14.0->streamlit) (2.18.0)\n",
            "Requirement already satisfied: smmap<6,>=3.0.1 in /usr/local/lib/python3.10/dist-packages (from gitdb<5,>=4.0.1->gitpython!=3.1.19,<4,>=3.0.7->streamlit) (5.0.1)\n",
            "Requirement already satisfied: MarkupSafe>=2.0 in /usr/local/lib/python3.10/dist-packages (from jinja2->altair<6,>=4.0->streamlit) (3.0.2)\n",
            "Requirement already satisfied: attrs>=22.2.0 in /usr/local/lib/python3.10/dist-packages (from jsonschema>=3.0->altair<6,>=4.0->streamlit) (24.2.0)\n",
            "Requirement already satisfied: jsonschema-specifications>=2023.03.6 in /usr/local/lib/python3.10/dist-packages (from jsonschema>=3.0->altair<6,>=4.0->streamlit) (2024.10.1)\n",
            "Requirement already satisfied: referencing>=0.28.4 in /usr/local/lib/python3.10/dist-packages (from jsonschema>=3.0->altair<6,>=4.0->streamlit) (0.35.1)\n",
            "Requirement already satisfied: rpds-py>=0.7.1 in /usr/local/lib/python3.10/dist-packages (from jsonschema>=3.0->altair<6,>=4.0->streamlit) (0.21.0)\n",
            "Requirement already satisfied: mdurl~=0.1 in /usr/local/lib/python3.10/dist-packages (from markdown-it-py>=2.2.0->rich<14,>=10.14.0->streamlit) (0.1.2)\n",
            "Requirement already satisfied: six>=1.5 in /usr/local/lib/python3.10/dist-packages (from python-dateutil>=2.8.2->pandas<3,>=1.4.0->streamlit) (1.16.0)\n",
            "Downloading streamlit-1.40.1-py2.py3-none-any.whl (8.6 MB)\n",
            "\u001b[2K   \u001b[90m━━━━━━━━━━━━━━━━━━━━━━━━━━━━━━━━━━━━━━━━\u001b[0m \u001b[32m8.6/8.6 MB\u001b[0m \u001b[31m47.7 MB/s\u001b[0m eta \u001b[36m0:00:00\u001b[0m\n",
            "\u001b[?25hDownloading pydeck-0.9.1-py2.py3-none-any.whl (6.9 MB)\n",
            "\u001b[2K   \u001b[90m━━━━━━━━━━━━━━━━━━━━━━━━━━━━━━━━━━━━━━━━\u001b[0m \u001b[32m6.9/6.9 MB\u001b[0m \u001b[31m66.6 MB/s\u001b[0m eta \u001b[36m0:00:00\u001b[0m\n",
            "\u001b[?25hDownloading watchdog-6.0.0-py3-none-manylinux2014_x86_64.whl (79 kB)\n",
            "\u001b[2K   \u001b[90m━━━━━━━━━━━━━━━━━━━━━━━━━━━━━━━━━━━━━━━━\u001b[0m \u001b[32m79.1/79.1 kB\u001b[0m \u001b[31m5.6 MB/s\u001b[0m eta \u001b[36m0:00:00\u001b[0m\n",
            "\u001b[?25hInstalling collected packages: watchdog, pydeck, streamlit\n",
            "Successfully installed pydeck-0.9.1 streamlit-1.40.1 watchdog-6.0.0\n"
          ]
        }
      ]
    },
    {
      "cell_type": "code",
      "source": [
        "import streamlit as st\n",
        "import plotly.express as px\n",
        "\n",
        "st.title(\"Dashboard de Investimentos\")\n",
        "ticker = st.text_input(\"Digite o Ticker do Ativo\", \"AAPL\")\n",
        "\n",
        "if st.button(\"Analisar\"):\n",
        "    dados = obter_dados_ativo(ticker)\n",
        "    fig = px.line(dados, x='Date', y='Close', title=f'Preço de {ticker}')\n",
        "    st.plotly_chart(fig)\n",
        "\n",
        "# Sistema de alertas\n",
        "limite_volatilidade = st.slider(\"Definir Limite de Volatilidade\", 0.0, 0.1, 0.05)\n",
        "volatilidade = calcular_metricas(dados, ticker)[1]\n",
        "if volatilidade > limite_volatilidade:\n",
        "    st.warning(f\"Atenção: Volatilidade do {ticker} excedeu o limite!\")\n"
      ],
      "metadata": {
        "colab": {
          "base_uri": "https://localhost:8080/",
          "height": 647
        },
        "id": "efoyv5CLhSe5",
        "outputId": "36f89c0c-b1a3-4176-8793-3e4a74e262ba"
      },
      "execution_count": 16,
      "outputs": [
        {
          "output_type": "stream",
          "name": "stderr",
          "text": [
            "2024-11-18 18:28:20.477 WARNING streamlit.runtime.scriptrunner_utils.script_run_context: Thread 'MainThread': missing ScriptRunContext! This warning can be ignored when running in bare mode.\n",
            "2024-11-18 18:28:20.583 \n",
            "  \u001b[33m\u001b[1mWarning:\u001b[0m to view this Streamlit app on a browser, run it with the following\n",
            "  command:\n",
            "\n",
            "    streamlit run /usr/local/lib/python3.10/dist-packages/colab_kernel_launcher.py [ARGUMENTS]\n",
            "2024-11-18 18:28:20.585 Thread 'MainThread': missing ScriptRunContext! This warning can be ignored when running in bare mode.\n",
            "2024-11-18 18:28:20.588 Thread 'MainThread': missing ScriptRunContext! This warning can be ignored when running in bare mode.\n",
            "2024-11-18 18:28:20.591 Thread 'MainThread': missing ScriptRunContext! This warning can be ignored when running in bare mode.\n",
            "2024-11-18 18:28:20.594 Thread 'MainThread': missing ScriptRunContext! This warning can be ignored when running in bare mode.\n",
            "2024-11-18 18:28:20.596 Thread 'MainThread': missing ScriptRunContext! This warning can be ignored when running in bare mode.\n",
            "2024-11-18 18:28:20.599 Session state does not function when running a script without `streamlit run`\n",
            "2024-11-18 18:28:20.601 Thread 'MainThread': missing ScriptRunContext! This warning can be ignored when running in bare mode.\n",
            "2024-11-18 18:28:20.604 Thread 'MainThread': missing ScriptRunContext! This warning can be ignored when running in bare mode.\n",
            "2024-11-18 18:28:20.605 Thread 'MainThread': missing ScriptRunContext! This warning can be ignored when running in bare mode.\n",
            "2024-11-18 18:28:20.606 Thread 'MainThread': missing ScriptRunContext! This warning can be ignored when running in bare mode.\n",
            "2024-11-18 18:28:20.607 Thread 'MainThread': missing ScriptRunContext! This warning can be ignored when running in bare mode.\n",
            "2024-11-18 18:28:20.608 Thread 'MainThread': missing ScriptRunContext! This warning can be ignored when running in bare mode.\n",
            "2024-11-18 18:28:20.610 Thread 'MainThread': missing ScriptRunContext! This warning can be ignored when running in bare mode.\n",
            "2024-11-18 18:28:20.611 Thread 'MainThread': missing ScriptRunContext! This warning can be ignored when running in bare mode.\n",
            "2024-11-18 18:28:20.612 Thread 'MainThread': missing ScriptRunContext! This warning can be ignored when running in bare mode.\n",
            "2024-11-18 18:28:20.613 Thread 'MainThread': missing ScriptRunContext! This warning can be ignored when running in bare mode.\n",
            "2024-11-18 18:28:20.615 Thread 'MainThread': missing ScriptRunContext! This warning can be ignored when running in bare mode.\n",
            "2024-11-18 18:28:20.616 Thread 'MainThread': missing ScriptRunContext! This warning can be ignored when running in bare mode.\n"
          ]
        },
        {
          "output_type": "error",
          "ename": "NameError",
          "evalue": "name 'dados' is not defined",
          "traceback": [
            "\u001b[0;31m---------------------------------------------------------------------------\u001b[0m",
            "\u001b[0;31mNameError\u001b[0m                                 Traceback (most recent call last)",
            "\u001b[0;32m<ipython-input-16-c313bd81a6ba>\u001b[0m in \u001b[0;36m<cell line: 14>\u001b[0;34m()\u001b[0m\n\u001b[1;32m     12\u001b[0m \u001b[0;31m# Sistema de alertas\u001b[0m\u001b[0;34m\u001b[0m\u001b[0;34m\u001b[0m\u001b[0m\n\u001b[1;32m     13\u001b[0m \u001b[0mlimite_volatilidade\u001b[0m \u001b[0;34m=\u001b[0m \u001b[0mst\u001b[0m\u001b[0;34m.\u001b[0m\u001b[0mslider\u001b[0m\u001b[0;34m(\u001b[0m\u001b[0;34m\"Definir Limite de Volatilidade\"\u001b[0m\u001b[0;34m,\u001b[0m \u001b[0;36m0.0\u001b[0m\u001b[0;34m,\u001b[0m \u001b[0;36m0.1\u001b[0m\u001b[0;34m,\u001b[0m \u001b[0;36m0.05\u001b[0m\u001b[0;34m)\u001b[0m\u001b[0;34m\u001b[0m\u001b[0;34m\u001b[0m\u001b[0m\n\u001b[0;32m---> 14\u001b[0;31m \u001b[0mvolatilidade\u001b[0m \u001b[0;34m=\u001b[0m \u001b[0mcalcular_metricas\u001b[0m\u001b[0;34m(\u001b[0m\u001b[0mdados\u001b[0m\u001b[0;34m,\u001b[0m \u001b[0mticker\u001b[0m\u001b[0;34m)\u001b[0m\u001b[0;34m[\u001b[0m\u001b[0;36m1\u001b[0m\u001b[0;34m]\u001b[0m\u001b[0;34m\u001b[0m\u001b[0;34m\u001b[0m\u001b[0m\n\u001b[0m\u001b[1;32m     15\u001b[0m \u001b[0;32mif\u001b[0m \u001b[0mvolatilidade\u001b[0m \u001b[0;34m>\u001b[0m \u001b[0mlimite_volatilidade\u001b[0m\u001b[0;34m:\u001b[0m\u001b[0;34m\u001b[0m\u001b[0;34m\u001b[0m\u001b[0m\n\u001b[1;32m     16\u001b[0m     \u001b[0mst\u001b[0m\u001b[0;34m.\u001b[0m\u001b[0mwarning\u001b[0m\u001b[0;34m(\u001b[0m\u001b[0;34mf\"Atenção: Volatilidade do {ticker} excedeu o limite!\"\u001b[0m\u001b[0;34m)\u001b[0m\u001b[0;34m\u001b[0m\u001b[0;34m\u001b[0m\u001b[0m\n",
            "\u001b[0;31mNameError\u001b[0m: name 'dados' is not defined"
          ]
        }
      ]
    },
    {
      "cell_type": "markdown",
      "source": [
        "Conclusão\n",
        "Com esses aprimoramentos:\n",
        "\n",
        "O sistema se torna mais robusto ao lidar com diferentes tipos de ativos.\n",
        "A análise de sentimento traz um componente qualitativo para prever movimentos de mercado.\n",
        "\n",
        "O sistema de alertas torna o monitoramento mais proativo.\n",
        "Transformar o projeto em uma aplicação web torna-o mais acessível e intuitivo, especialmente para iniciantes.\n",
        "\n",
        "Esses passos irão expandir significativamente o impacto do projeto, tornando-o uma ferramenta completa para investidores iniciantes e experientes. Se precisar de suporte adicional em alguma dessas etapas, estou aqui para ajudar! 🚀📊"
      ],
      "metadata": {
        "id": "Hmu0WtdOhg2r"
      }
    }
  ]
}